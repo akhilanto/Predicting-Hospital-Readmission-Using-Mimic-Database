{
 "cells": [
  {
   "cell_type": "code",
   "execution_count": 1,
   "metadata": {},
   "outputs": [],
   "source": [
    "import sqlite3\n",
    "import pandas as pd\n",
    "import numpy as np\n",
    "import matplotlib.pyplot as plt\n",
    "import time\n",
    "import datetime"
   ]
  },
  {
   "cell_type": "code",
   "execution_count": 2,
   "metadata": {},
   "outputs": [],
   "source": [
    "conn = sqlite3.connect('C:/Users/akhil/Desktop/HAP 880/mmics/mimic.db')\n",
    "df_adm = pd.read_sql(\"select * from ADMISSIONS \", conn)"
   ]
  },
  {
   "cell_type": "code",
   "execution_count": 3,
   "metadata": {},
   "outputs": [
    {
     "name": "stdout",
     "output_type": "stream",
     "text": [
      "Number of missing date admissions: 0\n",
      "Number of missing date discharges: 0\n"
     ]
    }
   ],
   "source": [
    "# convert to dates\n",
    "df_adm.ADMITTIME = pd.to_datetime(df_adm.ADMITTIME, format = '%Y-%m-%d %H:%M:%S', errors = 'coerce')\n",
    "df_adm.DISCHTIME = pd.to_datetime(df_adm.DISCHTIME, format = '%Y-%m-%d %H:%M:%S', errors = 'coerce')\n",
    "df_adm.DEATHTIME = pd.to_datetime(df_adm.DEATHTIME, format = '%Y-%m-%d %H:%M:%S', errors = 'coerce')\n",
    "\n",
    "# check to see if there are any missing dates\n",
    "print('Number of missing date admissions:', df_adm.ADMITTIME.isnull().sum())\n",
    "print('Number of missing date discharges:', df_adm.DISCHTIME.isnull().sum())"
   ]
  },
  {
   "cell_type": "code",
   "execution_count": 4,
   "metadata": {},
   "outputs": [],
   "source": [
    "# sort by subject_ID and admission date\n",
    "df_adm = df_adm.sort_values(['SUBJECT_ID','ADMITTIME'])\n",
    "df_adm = df_adm.reset_index(drop = True)\n",
    "# add the next admission date and type for each subject using groupby\n",
    "# we have to use groupby otherwise the dates will be from different subjects\n",
    "df_adm['NEXT_ADMITTIME'] = df_adm.groupby('SUBJECT_ID').ADMITTIME.shift(-1)\n",
    "# get the next admission type\n",
    "df_adm['NEXT_ADMISSION_TYPE'] = df_adm.groupby('SUBJECT_ID').ADMISSION_TYPE.shift(-1)\n",
    "\n",
    "# get rows where next admission is elective and replace with naT or nan\n",
    "rows = df_adm.NEXT_ADMISSION_TYPE == 'ELECTIVE'\n",
    "df_adm.loc[rows,'NEXT_ADMITTIME'] = pd.NaT\n",
    "df_adm.loc[rows,'NEXT_ADMISSION_TYPE'] = np.NaN"
   ]
  },
  {
   "cell_type": "code",
   "execution_count": 5,
   "metadata": {},
   "outputs": [
    {
     "data": {
      "image/png": "[encoded data removed]",
      "text/plain": [
       "<Figure size 432x288 with 1 Axes>"
      ]
     },
     "metadata": {},
     "output_type": "display_data"
    }
   ],
   "source": [
    "df_adm = df_adm.sort_values(['SUBJECT_ID','ADMITTIME'])\n",
    "\n",
    "# back fill\n",
    "df_adm[['NEXT_ADMITTIME','NEXT_ADMISSION_TYPE']] = df_adm.groupby(['SUBJECT_ID'])[['NEXT_ADMITTIME','NEXT_ADMISSION_TYPE']].fillna(method = 'bfill')\n",
    "\n",
    "\n",
    "# calculating the number of days between discharge and next admission\n",
    "df_adm['DAYS_NEXT_ADMIT']=  (df_adm.NEXT_ADMITTIME - df_adm.DISCHTIME).dt.total_seconds()/(24*60*60)\n",
    "\n",
    "# plot a histogram of days between readmissions if they exist\n",
    "plt.hist(df_adm.loc[~df_adm.DAYS_NEXT_ADMIT.isnull(),'DAYS_NEXT_ADMIT'], bins =range(0,365,30))\n",
    "plt.xlim([0,365])\n",
    "plt.xlabel('Days between admissions')\n",
    "plt.ylabel('Counts')\n",
    "plt.show()"
   ]
  },
  {
   "cell_type": "code",
   "execution_count": 6,
   "metadata": {},
   "outputs": [
    {
     "name": "stdout",
     "output_type": "stream",
     "text": [
      "Number with a readmission: 11399\n",
      "Total Number: 58976\n"
     ]
    }
   ],
   "source": [
    "print('Number with a readmission:', (~df_adm.DAYS_NEXT_ADMIT.isnull()).sum())\n",
    "print('Total Number:', len(df_adm))"
   ]
  },
  {
   "cell_type": "code",
   "execution_count": 7,
   "metadata": {},
   "outputs": [],
   "source": [
    "dfnew = df_adm[['SUBJECT_ID','HADM_ID','ADMITTIME','DISCHTIME','DAYS_NEXT_ADMIT','NEXT_ADMITTIME','ETHNICITY','ADMISSION_TYPE','DEATHTIME','DIAGNOSIS']]\n",
    "dfnew['DEATHTIME'].notnull().value_counts()\n",
    "dfnew = dfnew[dfnew['DEATHTIME'].isnull()]\n",
    "dfnew['Readmssion'] = np.where(dfnew['DAYS_NEXT_ADMIT']<30, '1', '0')\n",
    "data=dfnew[['SUBJECT_ID','HADM_ID','ADMITTIME','ADMISSION_TYPE','ETHNICITY','DIAGNOSIS','Readmssion']]"
   ]
  },
  {
   "cell_type": "code",
   "execution_count": 8,
   "metadata": {},
   "outputs": [
    {
     "data": {
      "text/plain": [
       "0    42358\n",
       "1     2963\n",
       "Name: Readmssion, dtype: int64"
      ]
     },
     "execution_count": 8,
     "metadata": {},
     "output_type": "execute_result"
    }
   ],
   "source": [
    "#Removing Newborn\n",
    "data = data.loc[data.ADMISSION_TYPE != 'NEWBORN'].copy()\n",
    "data['Readmssion'].value_counts()"
   ]
  },
  {
   "cell_type": "code",
   "execution_count": 9,
   "metadata": {},
   "outputs": [
    {
     "name": "stderr",
     "output_type": "stream",
     "text": [
      "C:\\Users\\akhil\\Anaconda3\\lib\\site-packages\\pandas\\core\\indexing.py:189: SettingWithCopyWarning: \n",
      "A value is trying to be set on a copy of a slice from a DataFrame\n",
      "\n",
      "See the caveats in the documentation: http://pandas.pydata.org/pandas-docs/stable/indexing.html#indexing-view-versus-copy\n",
      "  self._setitem_with_indexer(indexer, value)\n"
     ]
    },
    {
     "data": {
      "text/plain": [
       "WHITE                     32501\n",
       "OTHER/UNKNOWN              5640\n",
       "BLACK/AFRICAN AMERICAN     4471\n",
       "HISPANIC/LATINO            1625\n",
       "ASIAN                      1084\n",
       "Name: ETHNICITY, dtype: int64"
      ]
     },
     "execution_count": 9,
     "metadata": {},
     "output_type": "execute_result"
    }
   ],
   "source": [
    "# Compress the number of ethnicity categories\n",
    "data['ETHNICITY'].replace(regex=r'^ASIAN\\D*', value='ASIAN', inplace=True)\n",
    "data['ETHNICITY'].replace(regex=r'^WHITE\\D*', value='WHITE', inplace=True)\n",
    "data['ETHNICITY'].replace(regex=r'^HISPANIC\\D*', value='HISPANIC/LATINO', inplace=True)\n",
    "data['ETHNICITY'].replace(regex=r'^BLACK\\D*', value='BLACK/AFRICAN AMERICAN', inplace=True)\n",
    "data['ETHNICITY'].replace(['UNABLE TO OBTAIN', 'OTHER', 'PATIENT DECLINED TO ANSWER','UNKNOWN/NOT SPECIFIED'], value='OTHER/UNKNOWN', inplace=True)\n",
    "data['ETHNICITY'].loc[~data['ETHNICITY'].isin(data['ETHNICITY'].value_counts().nlargest(5).index.tolist())] = 'OTHER/UNKNOWN'\n",
    "data['ETHNICITY'].value_counts()"
   ]
  },
  {
   "cell_type": "code",
   "execution_count": 10,
   "metadata": {},
   "outputs": [
    {
     "name": "stdout",
     "output_type": "stream",
     "text": [
      "There are 6985 unique ICD9 codes in this dataset.\n"
     ]
    }
   ],
   "source": [
    "#Importing DIAGNOSIS_ICD table\n",
    "df_daig =pd.read_sql(\"select * from DIAGNOSES_ICD \", conn)\n",
    "print('There are {} unique ICD9 codes in this dataset.'.format(df_daig['ICD9_CODE'].value_counts().count()))\n"
   ]
  },
  {
   "cell_type": "code",
   "execution_count": 11,
   "metadata": {},
   "outputs": [],
   "source": [
    "# Filter out E and V codes since processing will be done on the numeric first 3 values\n",
    "df_daig['recode'] = df_daig['ICD9_CODE']\n",
    "df_daig['recode'] = df_daig['recode'][~df_daig['recode'].str.contains(\"[a-zA-Z]\").fillna(False)]\n",
    "df_daig['recode'].fillna(value='999', inplace=True)\n",
    "df_daig['recode'] = df_daig['recode'].str.slice(start=0, stop=3, step=1)\n",
    "df_daig[['recode']] = df_daig[['recode']].apply(pd.to_numeric)\n",
    "\n",
    "\n",
    "# ICD-9 Main Category ranges\n",
    "icd9_ranges = [(1, 140), (140, 240), (240, 280), (280, 290), (290, 320), (320, 390),\n",
    "               (390, 460), (460, 520), (520, 580), (580, 630), (630, 680), (680, 710),\n",
    "               (710, 740), (740, 760), (760, 780), (780, 800), (800, 1000), (1000, 2000)]\n",
    "\n",
    "# Associated category names\n",
    "diag_dict = {0: 'infectious', 1: 'neoplasms', 2: 'endocrine', 3: 'blood',\n",
    "             4: 'mental', 5: 'nervous', 6: 'circulatory', 7: 'respiratory',\n",
    "             8: 'digestive', 9: 'genitourinary', 10: 'pregnancy', 11: 'skin',\n",
    "             12: 'muscular', 13: 'congenital', 14: 'prenatal', 15: 'misc',\n",
    "             16: 'injury', 17: 'misc'}\n",
    "\n",
    "# Re-code in terms of integer\n",
    "for num, cat_range in enumerate(icd9_ranges):\n",
    "    df_daig['recode'] = np.where(df_daig['recode'].between(cat_range[0],cat_range[1]),\n",
    "            num, df_daig['recode'])\n",
    "\n",
    "# Convert integer to category name using diag_dict\n",
    "df_daig['recode'] = df_daig['recode']\n",
    "df_daig['cat'] = df_daig['recode'].replace(diag_dict)"
   ]
  },
  {
   "cell_type": "code",
   "execution_count": 12,
   "metadata": {},
   "outputs": [
    {
     "data": {
      "text/html": [
       "<div>\n",
       "<style scoped>\n",
       "    .dataframe tbody tr th:only-of-type {\n",
       "        vertical-align: middle;\n",
       "    }\n",
       "\n",
       "    .dataframe tbody tr th {\n",
       "        vertical-align: top;\n",
       "    }\n",
       "\n",
       "    .dataframe thead th {\n",
       "        text-align: right;\n",
       "    }\n",
       "</style>\n",
       "<table border=\"1\" class=\"dataframe\">\n",
       "  <thead>\n",
       "    <tr style=\"text-align: right;\">\n",
       "      <th></th>\n",
       "      <th>HADM_ID</th>\n",
       "      <th>cat</th>\n",
       "    </tr>\n",
       "  </thead>\n",
       "  <tbody>\n",
       "    <tr>\n",
       "      <th>0</th>\n",
       "      <td>100001</td>\n",
       "      <td>[endocrine, nervous, genitourinary, digestive,...</td>\n",
       "    </tr>\n",
       "    <tr>\n",
       "      <th>1</th>\n",
       "      <td>100003</td>\n",
       "      <td>[digestive, blood, infectious, digestive, circ...</td>\n",
       "    </tr>\n",
       "    <tr>\n",
       "      <th>2</th>\n",
       "      <td>100006</td>\n",
       "      <td>[respiratory, respiratory, respiratory, neopla...</td>\n",
       "    </tr>\n",
       "    <tr>\n",
       "      <th>3</th>\n",
       "      <td>100007</td>\n",
       "      <td>[digestive, digestive, injury, respiratory, ci...</td>\n",
       "    </tr>\n",
       "    <tr>\n",
       "      <th>4</th>\n",
       "      <td>100009</td>\n",
       "      <td>[circulatory, injury, circulatory, endocrine, ...</td>\n",
       "    </tr>\n",
       "  </tbody>\n",
       "</table>\n",
       "</div>"
      ],
      "text/plain": [
       "  HADM_ID                                                cat\n",
       "0  100001  [endocrine, nervous, genitourinary, digestive,...\n",
       "1  100003  [digestive, blood, infectious, digestive, circ...\n",
       "2  100006  [respiratory, respiratory, respiratory, neopla...\n",
       "3  100007  [digestive, digestive, injury, respiratory, ci...\n",
       "4  100009  [circulatory, injury, circulatory, endocrine, ..."
      ]
     },
     "execution_count": 12,
     "metadata": {},
     "output_type": "execute_result"
    }
   ],
   "source": [
    "# Create list of diagnoses for each admission\n",
    "hadm_list = df_daig.groupby('HADM_ID')['cat'].apply(list).reset_index()\n",
    "hadm_list.head()"
   ]
  },
  {
   "cell_type": "code",
   "execution_count": 13,
   "metadata": {},
   "outputs": [
    {
     "data": {
      "text/html": [
       "<div>\n",
       "<style scoped>\n",
       "    .dataframe tbody tr th:only-of-type {\n",
       "        vertical-align: middle;\n",
       "    }\n",
       "\n",
       "    .dataframe tbody tr th {\n",
       "        vertical-align: top;\n",
       "    }\n",
       "\n",
       "    .dataframe thead th {\n",
       "        text-align: right;\n",
       "    }\n",
       "</style>\n",
       "<table border=\"1\" class=\"dataframe\">\n",
       "  <thead>\n",
       "    <tr style=\"text-align: right;\">\n",
       "      <th></th>\n",
       "      <th>blood</th>\n",
       "      <th>circulatory</th>\n",
       "      <th>congenital</th>\n",
       "      <th>digestive</th>\n",
       "      <th>endocrine</th>\n",
       "      <th>genitourinary</th>\n",
       "      <th>infectious</th>\n",
       "      <th>injury</th>\n",
       "      <th>mental</th>\n",
       "      <th>misc</th>\n",
       "      <th>muscular</th>\n",
       "      <th>neoplasms</th>\n",
       "      <th>nervous</th>\n",
       "      <th>pregnancy</th>\n",
       "      <th>prenatal</th>\n",
       "      <th>respiratory</th>\n",
       "      <th>skin</th>\n",
       "    </tr>\n",
       "  </thead>\n",
       "  <tbody>\n",
       "    <tr>\n",
       "      <th>0</th>\n",
       "      <td>0</td>\n",
       "      <td>2</td>\n",
       "      <td>0</td>\n",
       "      <td>2</td>\n",
       "      <td>5</td>\n",
       "      <td>2</td>\n",
       "      <td>0</td>\n",
       "      <td>2</td>\n",
       "      <td>0</td>\n",
       "      <td>0</td>\n",
       "      <td>0</td>\n",
       "      <td>0</td>\n",
       "      <td>2</td>\n",
       "      <td>0</td>\n",
       "      <td>0</td>\n",
       "      <td>0</td>\n",
       "      <td>1</td>\n",
       "    </tr>\n",
       "    <tr>\n",
       "      <th>1</th>\n",
       "      <td>1</td>\n",
       "      <td>2</td>\n",
       "      <td>0</td>\n",
       "      <td>4</td>\n",
       "      <td>0</td>\n",
       "      <td>0</td>\n",
       "      <td>1</td>\n",
       "      <td>0</td>\n",
       "      <td>0</td>\n",
       "      <td>1</td>\n",
       "      <td>0</td>\n",
       "      <td>0</td>\n",
       "      <td>0</td>\n",
       "      <td>0</td>\n",
       "      <td>0</td>\n",
       "      <td>0</td>\n",
       "      <td>0</td>\n",
       "    </tr>\n",
       "    <tr>\n",
       "      <th>2</th>\n",
       "      <td>0</td>\n",
       "      <td>0</td>\n",
       "      <td>0</td>\n",
       "      <td>0</td>\n",
       "      <td>1</td>\n",
       "      <td>0</td>\n",
       "      <td>0</td>\n",
       "      <td>2</td>\n",
       "      <td>1</td>\n",
       "      <td>1</td>\n",
       "      <td>0</td>\n",
       "      <td>1</td>\n",
       "      <td>0</td>\n",
       "      <td>0</td>\n",
       "      <td>0</td>\n",
       "      <td>3</td>\n",
       "      <td>0</td>\n",
       "    </tr>\n",
       "    <tr>\n",
       "      <th>3</th>\n",
       "      <td>0</td>\n",
       "      <td>1</td>\n",
       "      <td>0</td>\n",
       "      <td>2</td>\n",
       "      <td>0</td>\n",
       "      <td>0</td>\n",
       "      <td>0</td>\n",
       "      <td>1</td>\n",
       "      <td>0</td>\n",
       "      <td>0</td>\n",
       "      <td>0</td>\n",
       "      <td>0</td>\n",
       "      <td>0</td>\n",
       "      <td>0</td>\n",
       "      <td>0</td>\n",
       "      <td>1</td>\n",
       "      <td>0</td>\n",
       "    </tr>\n",
       "    <tr>\n",
       "      <th>4</th>\n",
       "      <td>1</td>\n",
       "      <td>7</td>\n",
       "      <td>0</td>\n",
       "      <td>0</td>\n",
       "      <td>3</td>\n",
       "      <td>0</td>\n",
       "      <td>0</td>\n",
       "      <td>7</td>\n",
       "      <td>0</td>\n",
       "      <td>0</td>\n",
       "      <td>0</td>\n",
       "      <td>0</td>\n",
       "      <td>0</td>\n",
       "      <td>0</td>\n",
       "      <td>0</td>\n",
       "      <td>0</td>\n",
       "      <td>0</td>\n",
       "    </tr>\n",
       "  </tbody>\n",
       "</table>\n",
       "</div>"
      ],
      "text/plain": [
       "   blood  circulatory  congenital  digestive  endocrine  genitourinary  \\\n",
       "0      0            2           0          2          5              2   \n",
       "1      1            2           0          4          0              0   \n",
       "2      0            0           0          0          1              0   \n",
       "3      0            1           0          2          0              0   \n",
       "4      1            7           0          0          3              0   \n",
       "\n",
       "   infectious  injury  mental  misc  muscular  neoplasms  nervous  pregnancy  \\\n",
       "0           0       2       0     0         0          0        2          0   \n",
       "1           1       0       0     1         0          0        0          0   \n",
       "2           0       2       1     1         0          1        0          0   \n",
       "3           0       1       0     0         0          0        0          0   \n",
       "4           0       7       0     0         0          0        0          0   \n",
       "\n",
       "   prenatal  respiratory  skin  \n",
       "0         0            0     1  \n",
       "1         0            0     0  \n",
       "2         0            3     0  \n",
       "3         0            1     0  \n",
       "4         0            0     0  "
      ]
     },
     "execution_count": 13,
     "metadata": {},
     "output_type": "execute_result"
    }
   ],
   "source": [
    "# Convert diagnoses list into hospital admission-item matrix\n",
    "hadm_item = pd.get_dummies(hadm_list['cat'].apply(pd.Series).stack()).sum(level=0)\n",
    "hadm_item.head()"
   ]
  },
  {
   "cell_type": "code",
   "execution_count": 14,
   "metadata": {},
   "outputs": [
    {
     "data": {
      "text/html": [
       "<div>\n",
       "<style scoped>\n",
       "    .dataframe tbody tr th:only-of-type {\n",
       "        vertical-align: middle;\n",
       "    }\n",
       "\n",
       "    .dataframe tbody tr th {\n",
       "        vertical-align: top;\n",
       "    }\n",
       "\n",
       "    .dataframe thead th {\n",
       "        text-align: right;\n",
       "    }\n",
       "</style>\n",
       "<table border=\"1\" class=\"dataframe\">\n",
       "  <thead>\n",
       "    <tr style=\"text-align: right;\">\n",
       "      <th></th>\n",
       "      <th>blood</th>\n",
       "      <th>circulatory</th>\n",
       "      <th>congenital</th>\n",
       "      <th>digestive</th>\n",
       "      <th>endocrine</th>\n",
       "      <th>genitourinary</th>\n",
       "      <th>infectious</th>\n",
       "      <th>injury</th>\n",
       "      <th>mental</th>\n",
       "      <th>misc</th>\n",
       "      <th>muscular</th>\n",
       "      <th>neoplasms</th>\n",
       "      <th>nervous</th>\n",
       "      <th>pregnancy</th>\n",
       "      <th>prenatal</th>\n",
       "      <th>respiratory</th>\n",
       "      <th>skin</th>\n",
       "      <th>HADM_ID</th>\n",
       "    </tr>\n",
       "  </thead>\n",
       "  <tbody>\n",
       "    <tr>\n",
       "      <th>0</th>\n",
       "      <td>0.0</td>\n",
       "      <td>2.0</td>\n",
       "      <td>0.0</td>\n",
       "      <td>2.0</td>\n",
       "      <td>5.0</td>\n",
       "      <td>2.0</td>\n",
       "      <td>0.0</td>\n",
       "      <td>2.0</td>\n",
       "      <td>0.0</td>\n",
       "      <td>0.0</td>\n",
       "      <td>0.0</td>\n",
       "      <td>0.0</td>\n",
       "      <td>2.0</td>\n",
       "      <td>0.0</td>\n",
       "      <td>0.0</td>\n",
       "      <td>0.0</td>\n",
       "      <td>1.0</td>\n",
       "      <td>100001</td>\n",
       "    </tr>\n",
       "    <tr>\n",
       "      <th>1</th>\n",
       "      <td>1.0</td>\n",
       "      <td>2.0</td>\n",
       "      <td>0.0</td>\n",
       "      <td>4.0</td>\n",
       "      <td>0.0</td>\n",
       "      <td>0.0</td>\n",
       "      <td>1.0</td>\n",
       "      <td>0.0</td>\n",
       "      <td>0.0</td>\n",
       "      <td>1.0</td>\n",
       "      <td>0.0</td>\n",
       "      <td>0.0</td>\n",
       "      <td>0.0</td>\n",
       "      <td>0.0</td>\n",
       "      <td>0.0</td>\n",
       "      <td>0.0</td>\n",
       "      <td>0.0</td>\n",
       "      <td>100003</td>\n",
       "    </tr>\n",
       "    <tr>\n",
       "      <th>2</th>\n",
       "      <td>0.0</td>\n",
       "      <td>0.0</td>\n",
       "      <td>0.0</td>\n",
       "      <td>0.0</td>\n",
       "      <td>1.0</td>\n",
       "      <td>0.0</td>\n",
       "      <td>0.0</td>\n",
       "      <td>2.0</td>\n",
       "      <td>1.0</td>\n",
       "      <td>1.0</td>\n",
       "      <td>0.0</td>\n",
       "      <td>1.0</td>\n",
       "      <td>0.0</td>\n",
       "      <td>0.0</td>\n",
       "      <td>0.0</td>\n",
       "      <td>3.0</td>\n",
       "      <td>0.0</td>\n",
       "      <td>100006</td>\n",
       "    </tr>\n",
       "    <tr>\n",
       "      <th>3</th>\n",
       "      <td>0.0</td>\n",
       "      <td>1.0</td>\n",
       "      <td>0.0</td>\n",
       "      <td>2.0</td>\n",
       "      <td>0.0</td>\n",
       "      <td>0.0</td>\n",
       "      <td>0.0</td>\n",
       "      <td>1.0</td>\n",
       "      <td>0.0</td>\n",
       "      <td>0.0</td>\n",
       "      <td>0.0</td>\n",
       "      <td>0.0</td>\n",
       "      <td>0.0</td>\n",
       "      <td>0.0</td>\n",
       "      <td>0.0</td>\n",
       "      <td>1.0</td>\n",
       "      <td>0.0</td>\n",
       "      <td>100007</td>\n",
       "    </tr>\n",
       "    <tr>\n",
       "      <th>4</th>\n",
       "      <td>1.0</td>\n",
       "      <td>7.0</td>\n",
       "      <td>0.0</td>\n",
       "      <td>0.0</td>\n",
       "      <td>3.0</td>\n",
       "      <td>0.0</td>\n",
       "      <td>0.0</td>\n",
       "      <td>7.0</td>\n",
       "      <td>0.0</td>\n",
       "      <td>0.0</td>\n",
       "      <td>0.0</td>\n",
       "      <td>0.0</td>\n",
       "      <td>0.0</td>\n",
       "      <td>0.0</td>\n",
       "      <td>0.0</td>\n",
       "      <td>0.0</td>\n",
       "      <td>0.0</td>\n",
       "      <td>100009</td>\n",
       "    </tr>\n",
       "  </tbody>\n",
       "</table>\n",
       "</div>"
      ],
      "text/plain": [
       "   blood  circulatory  congenital  digestive  endocrine  genitourinary  \\\n",
       "0    0.0          2.0         0.0        2.0        5.0            2.0   \n",
       "1    1.0          2.0         0.0        4.0        0.0            0.0   \n",
       "2    0.0          0.0         0.0        0.0        1.0            0.0   \n",
       "3    0.0          1.0         0.0        2.0        0.0            0.0   \n",
       "4    1.0          7.0         0.0        0.0        3.0            0.0   \n",
       "\n",
       "   infectious  injury  mental  misc  muscular  neoplasms  nervous  pregnancy  \\\n",
       "0         0.0     2.0     0.0   0.0       0.0        0.0      2.0        0.0   \n",
       "1         1.0     0.0     0.0   1.0       0.0        0.0      0.0        0.0   \n",
       "2         0.0     2.0     1.0   1.0       0.0        1.0      0.0        0.0   \n",
       "3         0.0     1.0     0.0   0.0       0.0        0.0      0.0        0.0   \n",
       "4         0.0     7.0     0.0   0.0       0.0        0.0      0.0        0.0   \n",
       "\n",
       "   prenatal  respiratory  skin HADM_ID  \n",
       "0       0.0          0.0   1.0  100001  \n",
       "1       0.0          0.0   0.0  100003  \n",
       "2       0.0          3.0   0.0  100006  \n",
       "3       0.0          1.0   0.0  100007  \n",
       "4       0.0          0.0   0.0  100009  "
      ]
     },
     "execution_count": 14,
     "metadata": {},
     "output_type": "execute_result"
    }
   ],
   "source": [
    "# Join back with HADM_ID, will merge with main admissions DF later\n",
    "hadm_item = hadm_item.join(hadm_list['HADM_ID'], how=\"outer\")\n",
    "hadm_item.head()"
   ]
  },
  {
   "cell_type": "code",
   "execution_count": 15,
   "metadata": {},
   "outputs": [
    {
     "data": {
      "text/html": [
       "<div>\n",
       "<style scoped>\n",
       "    .dataframe tbody tr th:only-of-type {\n",
       "        vertical-align: middle;\n",
       "    }\n",
       "\n",
       "    .dataframe tbody tr th {\n",
       "        vertical-align: top;\n",
       "    }\n",
       "\n",
       "    .dataframe thead th {\n",
       "        text-align: right;\n",
       "    }\n",
       "</style>\n",
       "<table border=\"1\" class=\"dataframe\">\n",
       "  <thead>\n",
       "    <tr style=\"text-align: right;\">\n",
       "      <th></th>\n",
       "      <th>SUBJECT_ID</th>\n",
       "      <th>DOB</th>\n",
       "      <th>GENDER</th>\n",
       "    </tr>\n",
       "  </thead>\n",
       "  <tbody>\n",
       "    <tr>\n",
       "      <th>0</th>\n",
       "      <td>249</td>\n",
       "      <td>2075-03-13</td>\n",
       "      <td>F</td>\n",
       "    </tr>\n",
       "    <tr>\n",
       "      <th>1</th>\n",
       "      <td>250</td>\n",
       "      <td>2164-12-27</td>\n",
       "      <td>F</td>\n",
       "    </tr>\n",
       "    <tr>\n",
       "      <th>2</th>\n",
       "      <td>251</td>\n",
       "      <td>2090-03-15</td>\n",
       "      <td>M</td>\n",
       "    </tr>\n",
       "    <tr>\n",
       "      <th>3</th>\n",
       "      <td>252</td>\n",
       "      <td>2078-03-06</td>\n",
       "      <td>M</td>\n",
       "    </tr>\n",
       "    <tr>\n",
       "      <th>4</th>\n",
       "      <td>253</td>\n",
       "      <td>2089-11-26</td>\n",
       "      <td>F</td>\n",
       "    </tr>\n",
       "  </tbody>\n",
       "</table>\n",
       "</div>"
      ],
      "text/plain": [
       "  SUBJECT_ID        DOB GENDER\n",
       "0        249 2075-03-13      F\n",
       "1        250 2164-12-27      F\n",
       "2        251 2090-03-15      M\n",
       "3        252 2078-03-06      M\n",
       "4        253 2089-11-26      F"
      ]
     },
     "execution_count": 15,
     "metadata": {},
     "output_type": "execute_result"
    }
   ],
   "source": [
    "# Merge with main admissions\n",
    "data = data.merge(hadm_item, how='inner', on='HADM_ID')\n",
    "\n",
    "#import patients\n",
    "df_pat = pd.read_sql(\"select * from Patients \", conn)\n",
    "df_pat = df_pat[['SUBJECT_ID', 'DOB', 'GENDER']]\n",
    "df_pat.DOB = pd.to_datetime(df_pat.DOB, format = '%Y-%m-%d %H:%M:%S', errors = 'coerce')\n",
    "df_pat.head()"
   ]
  },
  {
   "cell_type": "code",
   "execution_count": 16,
   "metadata": {},
   "outputs": [],
   "source": [
    "data = data.merge(df_pat, how='inner', on='SUBJECT_ID')"
   ]
  },
  {
   "cell_type": "code",
   "execution_count": 17,
   "metadata": {},
   "outputs": [
    {
     "data": {
      "text/html": [
       "<div>\n",
       "<style scoped>\n",
       "    .dataframe tbody tr th:only-of-type {\n",
       "        vertical-align: middle;\n",
       "    }\n",
       "\n",
       "    .dataframe tbody tr th {\n",
       "        vertical-align: top;\n",
       "    }\n",
       "\n",
       "    .dataframe thead th {\n",
       "        text-align: right;\n",
       "    }\n",
       "</style>\n",
       "<table border=\"1\" class=\"dataframe\">\n",
       "  <thead>\n",
       "    <tr style=\"text-align: right;\">\n",
       "      <th></th>\n",
       "      <th>SUBJECT_ID</th>\n",
       "      <th>ADMIT_MIN</th>\n",
       "    </tr>\n",
       "  </thead>\n",
       "  <tbody>\n",
       "    <tr>\n",
       "      <th>0</th>\n",
       "      <td>100</td>\n",
       "      <td>2157-08-10 07:15:00</td>\n",
       "    </tr>\n",
       "    <tr>\n",
       "      <th>1</th>\n",
       "      <td>10000</td>\n",
       "      <td>2186-08-10 21:57:00</td>\n",
       "    </tr>\n",
       "    <tr>\n",
       "      <th>2</th>\n",
       "      <td>10003</td>\n",
       "      <td>2111-11-21 23:47:00</td>\n",
       "    </tr>\n",
       "    <tr>\n",
       "      <th>3</th>\n",
       "      <td>10004</td>\n",
       "      <td>2182-11-02 13:27:00</td>\n",
       "    </tr>\n",
       "    <tr>\n",
       "      <th>4</th>\n",
       "      <td>10006</td>\n",
       "      <td>2164-10-23 21:09:00</td>\n",
       "    </tr>\n",
       "  </tbody>\n",
       "</table>\n",
       "</div>"
      ],
      "text/plain": [
       "  SUBJECT_ID           ADMIT_MIN\n",
       "0        100 2157-08-10 07:15:00\n",
       "1      10000 2186-08-10 21:57:00\n",
       "2      10003 2111-11-21 23:47:00\n",
       "3      10004 2182-11-02 13:27:00\n",
       "4      10006 2164-10-23 21:09:00"
      ]
     },
     "execution_count": 17,
     "metadata": {},
     "output_type": "execute_result"
    }
   ],
   "source": [
    "# Find the first admission time for each patient\n",
    "df_age_min = data[['SUBJECT_ID', 'ADMITTIME']].groupby('SUBJECT_ID').min().reset_index()\n",
    "df_age_min.columns = ['SUBJECT_ID', 'ADMIT_MIN']\n",
    "df_age_min.head()"
   ]
  },
  {
   "cell_type": "code",
   "execution_count": 18,
   "metadata": {},
   "outputs": [],
   "source": [
    "data = data.merge(df_age_min, how='outer', on='SUBJECT_ID')"
   ]
  },
  {
   "cell_type": "code",
   "execution_count": 20,
   "metadata": {},
   "outputs": [
    {
     "data": {
      "image/png": "[encoded data removed]",
      "text/plain": [
       "<Figure size 432x288 with 1 Axes>"
      ]
     },
     "metadata": {},
     "output_type": "display_data"
    }
   ],
   "source": [
    "# Age is decode by finding the difference in admission date and date of birth\n",
    "data['age'] = (data['ADMIT_MIN'] - data['DOB']).dt.days // 365\n",
    "data['age'] = np.where(data['age'] < 0, 90, data['age'])\n",
    "data['age'].isnull().sum()\n",
    "data = data[data['age'] != 0]\n",
    "# Note that no ‘middle’ patients show up - this reflects the fact that MIMIC-III does not contain data from pediatric patients.\n",
    "plt.hist(data['age'], bins=20, color='#c44e52')\n",
    "plt.ylabel('Count')\n",
    "plt.xlabel('Age (years)')\n",
    "plt.title('Distribution of Age')\n",
    "plt.tick_params(left=False, bottom=False, top=False, right=False)\n",
    "plt.show();"
   ]
  },
  {
   "cell_type": "code",
   "execution_count": 21,
   "metadata": {},
   "outputs": [],
   "source": [
    "dum = data"
   ]
  },
  {
   "cell_type": "code",
   "execution_count": 22,
   "metadata": {},
   "outputs": [],
   "source": [
    "#importing Notevents\n",
    "df_notes = pd.read_sql(\"select * from NOTEEVENTS \", conn)\n",
    "# look at the first note\n",
    "df_notes.head()\n",
    "df_notes.TEXT.iloc[0]\n",
    "# filter to discharge summary\n",
    "df_notes_dis_sum = df_notes.loc[df_notes.CATEGORY == 'Discharge summary']\n",
    "\n",
    "\n",
    "df_notes_dis_sum_last = (df_notes_dis_sum.groupby(['SUBJECT_ID','HADM_ID']).nth(-1)).reset_index()\n",
    "assert df_notes_dis_sum_last.duplicated(['HADM_ID']).sum() == 0, 'Multiple discharge summaries per admission'\n",
    "\n",
    "df_adm_notes = pd.merge(dum,df_notes_dis_sum_last[['SUBJECT_ID','HADM_ID','TEXT']],on = ['SUBJECT_ID','HADM_ID'],how = 'left')\n"
   ]
  },
  {
   "cell_type": "code",
   "execution_count": 23,
   "metadata": {},
   "outputs": [
    {
     "name": "stdout",
     "output_type": "stream",
     "text": [
      "Fraction of missing notes: 0.030504037625343865\n",
      "Fraction notes with newlines: 0.9694959623746562\n",
      "Fraction notes with carriage returns: 0.0\n"
     ]
    }
   ],
   "source": [
    "print('Fraction of missing notes:', df_adm_notes.TEXT.isnull().sum() / len(df_adm_notes))\n",
    "print('Fraction notes with newlines:', df_adm_notes.TEXT.str.contains('\\n').sum() / len(df_adm_notes))\n",
    "print('Fraction notes with carriage returns:', df_adm_notes.TEXT.str.contains('\\r').sum() / len(df_adm_notes))"
   ]
  },
  {
   "cell_type": "code",
   "execution_count": 24,
   "metadata": {},
   "outputs": [
    {
     "name": "stdout",
     "output_type": "stream",
     "text": [
      "Number of positive samples: 2958\n",
      "Number of negative samples: 42118\n",
      "Total samples: 45076\n"
     ]
    }
   ],
   "source": [
    "df_adm_notes_clean = df_adm_notes.loc[df_adm_notes.ADMISSION_TYPE != 'NEWBORN'].copy()\n",
    "df_adm_notes_clean['OUTPUT_LABEL']=df_adm_notes_clean['Readmssion'].astype(int)\n",
    "\n",
    "df_adm_notes_clean.to_csv('HapProjectCleaned.csv')\n",
    "\n",
    "print('Number of positive samples:', (df_adm_notes_clean.OUTPUT_LABEL == 1).sum())\n",
    "print('Number of negative samples:',  (df_adm_notes_clean.OUTPUT_LABEL == 0).sum())\n",
    "print('Total samples:', len(df_adm_notes_clean))"
   ]
  },
  {
   "cell_type": "code",
   "execution_count": 25,
   "metadata": {},
   "outputs": [],
   "source": [
    "df = df_adm_notes_clean"
   ]
  },
  {
   "cell_type": "code",
   "execution_count": 26,
   "metadata": {},
   "outputs": [
    {
     "name": "stdout",
     "output_type": "stream",
     "text": [
      "!\"#$%&'()*+,-./:;<=>?@[\\]^_`{|}~\n",
      "(45076, 3000)\n"
     ]
    }
   ],
   "source": [
    "import nltk\n",
    "from nltk import word_tokenize\n",
    "import string\n",
    "import re\n",
    "print(string.punctuation)\n",
    "\n",
    "def preprocess_text(df):\n",
    "    # This function preprocesses the text by filling not a number and replacing new lines ('\\n') and carriage returns ('\\r')\n",
    "    df.TEXT = df.TEXT.fillna(' ')\n",
    "    df.TEXT =df.TEXT.str.replace('\\n',' ')\n",
    "    df.TEXT =df.TEXT.str.replace('\\r',' ')\n",
    "    return df\n",
    "\n",
    "df = preprocess_text(df)\n",
    "\n",
    "stopwords = nltk.corpus.stopwords.words('english')\n",
    "ps = nltk.PorterStemmer()\n",
    "wn = nltk.WordNetLemmatizer()\n",
    "\n",
    "def clean_textmain(text):\n",
    "    text = text.lower()\n",
    "    text =\"\".join([char for char in text if char not in string.punctuation ])\n",
    "    #text=re.sub(r'\\b\\w{1,4}\\b', '',text)\n",
    "    result = re.sub(r'[0-9]+','',text)\n",
    "    tokens = re.split('\\W+', result)\n",
    "    words = [word for word in tokens if word.isalpha()]\n",
    "    text1=[word for word in words if word not in string.digits]\n",
    "    #text = [ps.stem(word) for word in text1 if word not in stopwords]\n",
    "    text = [wn.lemmatize(word) for word in text1 if word not in stopwords]\n",
    "    return text\n",
    "\n",
    "from sklearn.feature_extraction.text import CountVectorizer\n",
    "count_vect_sample = CountVectorizer(max_features = 3000,analyzer = clean_textmain)\n",
    "X_counts_sample = count_vect_sample.fit_transform(df['TEXT'])\n",
    "print(X_counts_sample.shape)"
   ]
  },
  {
   "cell_type": "code",
   "execution_count": 27,
   "metadata": {},
   "outputs": [
    {
     "data": {
      "text/html": [
       "<div>\n",
       "<style scoped>\n",
       "    .dataframe tbody tr th:only-of-type {\n",
       "        vertical-align: middle;\n",
       "    }\n",
       "\n",
       "    .dataframe tbody tr th {\n",
       "        vertical-align: top;\n",
       "    }\n",
       "\n",
       "    .dataframe thead th {\n",
       "        text-align: right;\n",
       "    }\n",
       "</style>\n",
       "<table border=\"1\" class=\"dataframe\">\n",
       "  <thead>\n",
       "    <tr style=\"text-align: right;\">\n",
       "      <th></th>\n",
       "      <th>aaa</th>\n",
       "      <th>aaox</th>\n",
       "      <th>ab</th>\n",
       "      <th>abd</th>\n",
       "      <th>abdomen</th>\n",
       "      <th>abdominal</th>\n",
       "      <th>abdpelvis</th>\n",
       "      <th>abg</th>\n",
       "      <th>ability</th>\n",
       "      <th>ablation</th>\n",
       "      <th>...</th>\n",
       "      <th>yeastnone</th>\n",
       "      <th>yellow</th>\n",
       "      <th>yesterday</th>\n",
       "      <th>yo</th>\n",
       "      <th>yr</th>\n",
       "      <th>zantac</th>\n",
       "      <th>zocor</th>\n",
       "      <th>zofran</th>\n",
       "      <th>zolpidem</th>\n",
       "      <th>zosyn</th>\n",
       "    </tr>\n",
       "  </thead>\n",
       "  <tbody>\n",
       "    <tr>\n",
       "      <th>0</th>\n",
       "      <td>0</td>\n",
       "      <td>0</td>\n",
       "      <td>0</td>\n",
       "      <td>0</td>\n",
       "      <td>0</td>\n",
       "      <td>0</td>\n",
       "      <td>0</td>\n",
       "      <td>0</td>\n",
       "      <td>0</td>\n",
       "      <td>0</td>\n",
       "      <td>...</td>\n",
       "      <td>0</td>\n",
       "      <td>0</td>\n",
       "      <td>0</td>\n",
       "      <td>0</td>\n",
       "      <td>0</td>\n",
       "      <td>0</td>\n",
       "      <td>0</td>\n",
       "      <td>0</td>\n",
       "      <td>0</td>\n",
       "      <td>0</td>\n",
       "    </tr>\n",
       "    <tr>\n",
       "      <th>1</th>\n",
       "      <td>0</td>\n",
       "      <td>1</td>\n",
       "      <td>0</td>\n",
       "      <td>1</td>\n",
       "      <td>0</td>\n",
       "      <td>1</td>\n",
       "      <td>0</td>\n",
       "      <td>0</td>\n",
       "      <td>0</td>\n",
       "      <td>0</td>\n",
       "      <td>...</td>\n",
       "      <td>0</td>\n",
       "      <td>0</td>\n",
       "      <td>0</td>\n",
       "      <td>1</td>\n",
       "      <td>1</td>\n",
       "      <td>0</td>\n",
       "      <td>0</td>\n",
       "      <td>0</td>\n",
       "      <td>1</td>\n",
       "      <td>4</td>\n",
       "    </tr>\n",
       "    <tr>\n",
       "      <th>2</th>\n",
       "      <td>0</td>\n",
       "      <td>0</td>\n",
       "      <td>0</td>\n",
       "      <td>0</td>\n",
       "      <td>0</td>\n",
       "      <td>0</td>\n",
       "      <td>0</td>\n",
       "      <td>0</td>\n",
       "      <td>0</td>\n",
       "      <td>0</td>\n",
       "      <td>...</td>\n",
       "      <td>0</td>\n",
       "      <td>0</td>\n",
       "      <td>0</td>\n",
       "      <td>0</td>\n",
       "      <td>0</td>\n",
       "      <td>0</td>\n",
       "      <td>0</td>\n",
       "      <td>0</td>\n",
       "      <td>0</td>\n",
       "      <td>0</td>\n",
       "    </tr>\n",
       "    <tr>\n",
       "      <th>3</th>\n",
       "      <td>0</td>\n",
       "      <td>0</td>\n",
       "      <td>0</td>\n",
       "      <td>0</td>\n",
       "      <td>0</td>\n",
       "      <td>0</td>\n",
       "      <td>0</td>\n",
       "      <td>0</td>\n",
       "      <td>0</td>\n",
       "      <td>0</td>\n",
       "      <td>...</td>\n",
       "      <td>0</td>\n",
       "      <td>0</td>\n",
       "      <td>0</td>\n",
       "      <td>0</td>\n",
       "      <td>0</td>\n",
       "      <td>0</td>\n",
       "      <td>0</td>\n",
       "      <td>0</td>\n",
       "      <td>0</td>\n",
       "      <td>0</td>\n",
       "    </tr>\n",
       "    <tr>\n",
       "      <th>4</th>\n",
       "      <td>0</td>\n",
       "      <td>0</td>\n",
       "      <td>0</td>\n",
       "      <td>1</td>\n",
       "      <td>0</td>\n",
       "      <td>0</td>\n",
       "      <td>0</td>\n",
       "      <td>0</td>\n",
       "      <td>0</td>\n",
       "      <td>0</td>\n",
       "      <td>...</td>\n",
       "      <td>0</td>\n",
       "      <td>0</td>\n",
       "      <td>0</td>\n",
       "      <td>1</td>\n",
       "      <td>0</td>\n",
       "      <td>0</td>\n",
       "      <td>0</td>\n",
       "      <td>0</td>\n",
       "      <td>0</td>\n",
       "      <td>0</td>\n",
       "    </tr>\n",
       "  </tbody>\n",
       "</table>\n",
       "<p>5 rows × 3000 columns</p>\n",
       "</div>"
      ],
      "text/plain": [
       "   aaa  aaox  ab  abd  abdomen  abdominal  abdpelvis  abg  ability  ablation  \\\n",
       "0    0     0   0    0        0          0          0    0        0         0   \n",
       "1    0     1   0    1        0          1          0    0        0         0   \n",
       "2    0     0   0    0        0          0          0    0        0         0   \n",
       "3    0     0   0    0        0          0          0    0        0         0   \n",
       "4    0     0   0    1        0          0          0    0        0         0   \n",
       "\n",
       "   ...    yeastnone  yellow  yesterday  yo  yr  zantac  zocor  zofran  \\\n",
       "0  ...            0       0          0   0   0       0      0       0   \n",
       "1  ...            0       0          0   1   1       0      0       0   \n",
       "2  ...            0       0          0   0   0       0      0       0   \n",
       "3  ...            0       0          0   0   0       0      0       0   \n",
       "4  ...            0       0          0   1   0       0      0       0   \n",
       "\n",
       "   zolpidem  zosyn  \n",
       "0         0      0  \n",
       "1         1      4  \n",
       "2         0      0  \n",
       "3         0      0  \n",
       "4         0      0  \n",
       "\n",
       "[5 rows x 3000 columns]"
      ]
     },
     "execution_count": 27,
     "metadata": {},
     "output_type": "execute_result"
    }
   ],
   "source": [
    "X_counts_df =pd.DataFrame(X_counts_sample.toarray())\n",
    "#X_counts_df =pd.DataFrame(count_vect_sample.get_feature_names())\n",
    "X_counts_df.columns = count_vect_sample.get_feature_names()\n",
    "#print(X_counts_df.head())\n",
    "#type(X_counts_df)\n",
    "X_counts_df.head()"
   ]
  },
  {
   "cell_type": "code",
   "execution_count": 28,
   "metadata": {},
   "outputs": [
    {
     "data": {
      "text/html": [
       "<div>\n",
       "<style scoped>\n",
       "    .dataframe tbody tr th:only-of-type {\n",
       "        vertical-align: middle;\n",
       "    }\n",
       "\n",
       "    .dataframe tbody tr th {\n",
       "        vertical-align: top;\n",
       "    }\n",
       "\n",
       "    .dataframe thead th {\n",
       "        text-align: right;\n",
       "    }\n",
       "</style>\n",
       "<table border=\"1\" class=\"dataframe\">\n",
       "  <thead>\n",
       "    <tr style=\"text-align: right;\">\n",
       "      <th></th>\n",
       "      <th>SUBJECT_ID</th>\n",
       "      <th>HADM_ID</th>\n",
       "      <th>ADMITTIME</th>\n",
       "      <th>ADMISSION_TYPE</th>\n",
       "      <th>ETHNICITY</th>\n",
       "      <th>DIAGNOSIS</th>\n",
       "      <th>Readmssion</th>\n",
       "      <th>blood_caller</th>\n",
       "      <th>circulatory</th>\n",
       "      <th>congenital</th>\n",
       "      <th>...</th>\n",
       "      <th>yeastnone</th>\n",
       "      <th>yellow</th>\n",
       "      <th>yesterday</th>\n",
       "      <th>yo</th>\n",
       "      <th>yr</th>\n",
       "      <th>zantac</th>\n",
       "      <th>zocor</th>\n",
       "      <th>zofran</th>\n",
       "      <th>zolpidem</th>\n",
       "      <th>zosyn</th>\n",
       "    </tr>\n",
       "  </thead>\n",
       "  <tbody>\n",
       "    <tr>\n",
       "      <th>0</th>\n",
       "      <td>100</td>\n",
       "      <td>153952</td>\n",
       "      <td>2157-08-10 07:15:00</td>\n",
       "      <td>ELECTIVE</td>\n",
       "      <td>OTHER/UNKNOWN</td>\n",
       "      <td>AORTIC INSUFFICIENCY\\AORTIC VALVE REPLACEMENT;...</td>\n",
       "      <td>0</td>\n",
       "      <td>0.0</td>\n",
       "      <td>4.0</td>\n",
       "      <td>0.0</td>\n",
       "      <td>...</td>\n",
       "      <td>0</td>\n",
       "      <td>0</td>\n",
       "      <td>0</td>\n",
       "      <td>0</td>\n",
       "      <td>0</td>\n",
       "      <td>0</td>\n",
       "      <td>0</td>\n",
       "      <td>0</td>\n",
       "      <td>0</td>\n",
       "      <td>0</td>\n",
       "    </tr>\n",
       "    <tr>\n",
       "      <th>1</th>\n",
       "      <td>10000</td>\n",
       "      <td>187813</td>\n",
       "      <td>2186-08-10 21:57:00</td>\n",
       "      <td>EMERGENCY</td>\n",
       "      <td>HISPANIC/LATINO</td>\n",
       "      <td>END STAGE LIVER DISEASE;END STAGE KIDNEY DISEASE</td>\n",
       "      <td>0</td>\n",
       "      <td>4.0</td>\n",
       "      <td>2.0</td>\n",
       "      <td>0.0</td>\n",
       "      <td>...</td>\n",
       "      <td>0</td>\n",
       "      <td>0</td>\n",
       "      <td>0</td>\n",
       "      <td>1</td>\n",
       "      <td>1</td>\n",
       "      <td>0</td>\n",
       "      <td>0</td>\n",
       "      <td>0</td>\n",
       "      <td>1</td>\n",
       "      <td>4</td>\n",
       "    </tr>\n",
       "    <tr>\n",
       "      <th>2</th>\n",
       "      <td>10003</td>\n",
       "      <td>144039</td>\n",
       "      <td>2111-11-21 23:47:00</td>\n",
       "      <td>EMERGENCY</td>\n",
       "      <td>BLACK/AFRICAN AMERICAN</td>\n",
       "      <td>HEMOTHORAX/RIB FX</td>\n",
       "      <td>0</td>\n",
       "      <td>1.0</td>\n",
       "      <td>2.0</td>\n",
       "      <td>0.0</td>\n",
       "      <td>...</td>\n",
       "      <td>0</td>\n",
       "      <td>0</td>\n",
       "      <td>0</td>\n",
       "      <td>0</td>\n",
       "      <td>0</td>\n",
       "      <td>0</td>\n",
       "      <td>0</td>\n",
       "      <td>0</td>\n",
       "      <td>0</td>\n",
       "      <td>0</td>\n",
       "    </tr>\n",
       "    <tr>\n",
       "      <th>3</th>\n",
       "      <td>10004</td>\n",
       "      <td>164713</td>\n",
       "      <td>2182-11-02 13:27:00</td>\n",
       "      <td>EMERGENCY</td>\n",
       "      <td>WHITE</td>\n",
       "      <td>S/P FALL;ICH</td>\n",
       "      <td>0</td>\n",
       "      <td>0.0</td>\n",
       "      <td>1.0</td>\n",
       "      <td>0.0</td>\n",
       "      <td>...</td>\n",
       "      <td>0</td>\n",
       "      <td>0</td>\n",
       "      <td>0</td>\n",
       "      <td>0</td>\n",
       "      <td>0</td>\n",
       "      <td>0</td>\n",
       "      <td>0</td>\n",
       "      <td>0</td>\n",
       "      <td>0</td>\n",
       "      <td>0</td>\n",
       "    </tr>\n",
       "    <tr>\n",
       "      <th>4</th>\n",
       "      <td>10004</td>\n",
       "      <td>161106</td>\n",
       "      <td>2183-05-04 22:40:00</td>\n",
       "      <td>EMERGENCY</td>\n",
       "      <td>WHITE</td>\n",
       "      <td>SUBDURAL HEMATOMA,SEIZURE,C3 FRACTURE</td>\n",
       "      <td>0</td>\n",
       "      <td>0.0</td>\n",
       "      <td>1.0</td>\n",
       "      <td>0.0</td>\n",
       "      <td>...</td>\n",
       "      <td>0</td>\n",
       "      <td>0</td>\n",
       "      <td>0</td>\n",
       "      <td>1</td>\n",
       "      <td>0</td>\n",
       "      <td>0</td>\n",
       "      <td>0</td>\n",
       "      <td>0</td>\n",
       "      <td>0</td>\n",
       "      <td>0</td>\n",
       "    </tr>\n",
       "  </tbody>\n",
       "</table>\n",
       "<p>5 rows × 3030 columns</p>\n",
       "</div>"
      ],
      "text/plain": [
       "  SUBJECT_ID HADM_ID           ADMITTIME ADMISSION_TYPE  \\\n",
       "0        100  153952 2157-08-10 07:15:00       ELECTIVE   \n",
       "1      10000  187813 2186-08-10 21:57:00      EMERGENCY   \n",
       "2      10003  144039 2111-11-21 23:47:00      EMERGENCY   \n",
       "3      10004  164713 2182-11-02 13:27:00      EMERGENCY   \n",
       "4      10004  161106 2183-05-04 22:40:00      EMERGENCY   \n",
       "\n",
       "                ETHNICITY                                          DIAGNOSIS  \\\n",
       "0           OTHER/UNKNOWN  AORTIC INSUFFICIENCY\\AORTIC VALVE REPLACEMENT;...   \n",
       "1         HISPANIC/LATINO   END STAGE LIVER DISEASE;END STAGE KIDNEY DISEASE   \n",
       "2  BLACK/AFRICAN AMERICAN                                  HEMOTHORAX/RIB FX   \n",
       "3                   WHITE                                       S/P FALL;ICH   \n",
       "4                   WHITE              SUBDURAL HEMATOMA,SEIZURE,C3 FRACTURE   \n",
       "\n",
       "  Readmssion  blood_caller  circulatory  congenital  ...    yeastnone  yellow  \\\n",
       "0          0           0.0          4.0         0.0  ...            0       0   \n",
       "1          0           4.0          2.0         0.0  ...            0       0   \n",
       "2          0           1.0          2.0         0.0  ...            0       0   \n",
       "3          0           0.0          1.0         0.0  ...            0       0   \n",
       "4          0           0.0          1.0         0.0  ...            0       0   \n",
       "\n",
       "   yesterday  yo  yr  zantac  zocor  zofran  zolpidem  zosyn  \n",
       "0          0   0   0       0      0       0         0      0  \n",
       "1          0   1   1       0      0       0         1      4  \n",
       "2          0   0   0       0      0       0         0      0  \n",
       "3          0   0   0       0      0       0         0      0  \n",
       "4          0   1   0       0      0       0         0      0  \n",
       "\n",
       "[5 rows x 3030 columns]"
      ]
     },
     "execution_count": 28,
     "metadata": {},
     "output_type": "execute_result"
    }
   ],
   "source": [
    "data = df.join(X_counts_df,lsuffix='_caller', rsuffix='_other')\n",
    "\n",
    "data.head()"
   ]
  },
  {
   "cell_type": "code",
   "execution_count": 29,
   "metadata": {},
   "outputs": [],
   "source": [
    "data.drop(columns=['SUBJECT_ID', 'HADM_ID', 'ADMITTIME' ,'ADMISSION_TYPE','Readmssion','ADMIT_MIN', 'DOB','DIAGNOSIS'], inplace=True)\n",
    "\n",
    "df= data\n",
    "df.columns\n",
    "df = pd.get_dummies(data=df, columns=['ETHNICITY', 'GENDER'])\n",
    "df = df.dropna()"
   ]
  },
  {
   "cell_type": "code",
   "execution_count": 30,
   "metadata": {},
   "outputs": [
    {
     "data": {
      "text/plain": [
       "0    42102\n",
       "1     2957\n",
       "Name: OUTPUT_LABEL, dtype: int64"
      ]
     },
     "execution_count": 30,
     "metadata": {},
     "output_type": "execute_result"
    }
   ],
   "source": [
    "count_classes = pd.value_counts(df['OUTPUT_LABEL'], sort = True)\n",
    "count_classes"
   ]
  },
  {
   "cell_type": "code",
   "execution_count": 31,
   "metadata": {},
   "outputs": [
    {
     "data": {
      "text/plain": [
       "<matplotlib.axes._subplots.AxesSubplot at 0x20be7064dd8>"
      ]
     },
     "execution_count": 31,
     "metadata": {},
     "output_type": "execute_result"
    },
    {
     "data": {
      "image/png": "[encoded data removed]",
      "text/plain": [
       "<Figure size 432x288 with 1 Axes>"
      ]
     },
     "metadata": {},
     "output_type": "display_data"
    }
   ],
   "source": [
    "Labels = [\"No readmission\", \"Readmission <30\"]\n",
    "plt.title(\"OUTPUT_LABEL distribution\")\n",
    "plt.xticks(range(2), Labels)\n",
    "plt.xlabel(\"OUTPUT_LABEL\")\n",
    "plt.ylabel(\"Frequency\")\n",
    "count_classes.plot(kind = 'bar', rot=0)"
   ]
  },
  {
   "cell_type": "code",
   "execution_count": 32,
   "metadata": {},
   "outputs": [
    {
     "name": "stdout",
     "output_type": "stream",
     "text": [
      "Readmission after 30 Days 93.473 % of the dataset\n",
      "Readmssion with in 30 Days 6.565 % of the dataset\n"
     ]
    }
   ],
   "source": [
    "print('Readmission after 30 Days', round(data['OUTPUT_LABEL'].value_counts()[0]/len(df) * 100,3), '% of the dataset')\n",
    "print('Readmssion with in 30 Days', round(data['OUTPUT_LABEL'].value_counts()[1]/len(df) * 100,3), '% of the dataset')"
   ]
  },
  {
   "cell_type": "code",
   "execution_count": 33,
   "metadata": {},
   "outputs": [
    {
     "data": {
      "text/html": [
       "<div>\n",
       "<style scoped>\n",
       "    .dataframe tbody tr th:only-of-type {\n",
       "        vertical-align: middle;\n",
       "    }\n",
       "\n",
       "    .dataframe tbody tr th {\n",
       "        vertical-align: top;\n",
       "    }\n",
       "\n",
       "    .dataframe thead th {\n",
       "        text-align: right;\n",
       "    }\n",
       "</style>\n",
       "<table border=\"1\" class=\"dataframe\">\n",
       "  <thead>\n",
       "    <tr style=\"text-align: right;\">\n",
       "      <th></th>\n",
       "      <th>blood_caller</th>\n",
       "      <th>circulatory</th>\n",
       "      <th>congenital</th>\n",
       "      <th>digestive</th>\n",
       "      <th>endocrine_caller</th>\n",
       "      <th>genitourinary</th>\n",
       "      <th>infectious_caller</th>\n",
       "      <th>injury_caller</th>\n",
       "      <th>mental_caller</th>\n",
       "      <th>misc</th>\n",
       "      <th>...</th>\n",
       "      <th>zofran</th>\n",
       "      <th>zolpidem</th>\n",
       "      <th>zosyn</th>\n",
       "      <th>ETHNICITY_ASIAN</th>\n",
       "      <th>ETHNICITY_BLACK/AFRICAN AMERICAN</th>\n",
       "      <th>ETHNICITY_HISPANIC/LATINO</th>\n",
       "      <th>ETHNICITY_OTHER/UNKNOWN</th>\n",
       "      <th>ETHNICITY_WHITE</th>\n",
       "      <th>GENDER_F</th>\n",
       "      <th>GENDER_M</th>\n",
       "    </tr>\n",
       "  </thead>\n",
       "  <tbody>\n",
       "    <tr>\n",
       "      <th>0</th>\n",
       "      <td>0.0</td>\n",
       "      <td>4.0</td>\n",
       "      <td>0.0</td>\n",
       "      <td>0.0</td>\n",
       "      <td>0.0</td>\n",
       "      <td>0.0</td>\n",
       "      <td>0.0</td>\n",
       "      <td>1.0</td>\n",
       "      <td>0.0</td>\n",
       "      <td>0.0</td>\n",
       "      <td>...</td>\n",
       "      <td>0</td>\n",
       "      <td>0</td>\n",
       "      <td>0</td>\n",
       "      <td>0</td>\n",
       "      <td>0</td>\n",
       "      <td>0</td>\n",
       "      <td>1</td>\n",
       "      <td>0</td>\n",
       "      <td>1</td>\n",
       "      <td>0</td>\n",
       "    </tr>\n",
       "    <tr>\n",
       "      <th>1</th>\n",
       "      <td>4.0</td>\n",
       "      <td>2.0</td>\n",
       "      <td>0.0</td>\n",
       "      <td>5.0</td>\n",
       "      <td>2.0</td>\n",
       "      <td>2.0</td>\n",
       "      <td>1.0</td>\n",
       "      <td>1.0</td>\n",
       "      <td>1.0</td>\n",
       "      <td>2.0</td>\n",
       "      <td>...</td>\n",
       "      <td>0</td>\n",
       "      <td>1</td>\n",
       "      <td>4</td>\n",
       "      <td>0</td>\n",
       "      <td>0</td>\n",
       "      <td>1</td>\n",
       "      <td>0</td>\n",
       "      <td>0</td>\n",
       "      <td>0</td>\n",
       "      <td>1</td>\n",
       "    </tr>\n",
       "    <tr>\n",
       "      <th>2</th>\n",
       "      <td>1.0</td>\n",
       "      <td>2.0</td>\n",
       "      <td>0.0</td>\n",
       "      <td>0.0</td>\n",
       "      <td>0.0</td>\n",
       "      <td>0.0</td>\n",
       "      <td>0.0</td>\n",
       "      <td>6.0</td>\n",
       "      <td>0.0</td>\n",
       "      <td>0.0</td>\n",
       "      <td>...</td>\n",
       "      <td>0</td>\n",
       "      <td>0</td>\n",
       "      <td>0</td>\n",
       "      <td>0</td>\n",
       "      <td>1</td>\n",
       "      <td>0</td>\n",
       "      <td>0</td>\n",
       "      <td>0</td>\n",
       "      <td>0</td>\n",
       "      <td>1</td>\n",
       "    </tr>\n",
       "    <tr>\n",
       "      <th>3</th>\n",
       "      <td>0.0</td>\n",
       "      <td>1.0</td>\n",
       "      <td>0.0</td>\n",
       "      <td>1.0</td>\n",
       "      <td>2.0</td>\n",
       "      <td>1.0</td>\n",
       "      <td>0.0</td>\n",
       "      <td>3.0</td>\n",
       "      <td>0.0</td>\n",
       "      <td>1.0</td>\n",
       "      <td>...</td>\n",
       "      <td>0</td>\n",
       "      <td>0</td>\n",
       "      <td>0</td>\n",
       "      <td>0</td>\n",
       "      <td>0</td>\n",
       "      <td>0</td>\n",
       "      <td>0</td>\n",
       "      <td>1</td>\n",
       "      <td>0</td>\n",
       "      <td>1</td>\n",
       "    </tr>\n",
       "    <tr>\n",
       "      <th>4</th>\n",
       "      <td>0.0</td>\n",
       "      <td>1.0</td>\n",
       "      <td>0.0</td>\n",
       "      <td>0.0</td>\n",
       "      <td>1.0</td>\n",
       "      <td>0.0</td>\n",
       "      <td>0.0</td>\n",
       "      <td>4.0</td>\n",
       "      <td>0.0</td>\n",
       "      <td>0.0</td>\n",
       "      <td>...</td>\n",
       "      <td>0</td>\n",
       "      <td>0</td>\n",
       "      <td>0</td>\n",
       "      <td>0</td>\n",
       "      <td>0</td>\n",
       "      <td>0</td>\n",
       "      <td>0</td>\n",
       "      <td>1</td>\n",
       "      <td>0</td>\n",
       "      <td>1</td>\n",
       "    </tr>\n",
       "  </tbody>\n",
       "</table>\n",
       "<p>5 rows × 3027 columns</p>\n",
       "</div>"
      ],
      "text/plain": [
       "   blood_caller  circulatory  congenital  digestive  endocrine_caller  \\\n",
       "0           0.0          4.0         0.0        0.0               0.0   \n",
       "1           4.0          2.0         0.0        5.0               2.0   \n",
       "2           1.0          2.0         0.0        0.0               0.0   \n",
       "3           0.0          1.0         0.0        1.0               2.0   \n",
       "4           0.0          1.0         0.0        0.0               1.0   \n",
       "\n",
       "   genitourinary  infectious_caller  injury_caller  mental_caller  misc  \\\n",
       "0            0.0                0.0            1.0            0.0   0.0   \n",
       "1            2.0                1.0            1.0            1.0   2.0   \n",
       "2            0.0                0.0            6.0            0.0   0.0   \n",
       "3            1.0                0.0            3.0            0.0   1.0   \n",
       "4            0.0                0.0            4.0            0.0   0.0   \n",
       "\n",
       "     ...     zofran  zolpidem  zosyn  ETHNICITY_ASIAN  \\\n",
       "0    ...          0         0      0                0   \n",
       "1    ...          0         1      4                0   \n",
       "2    ...          0         0      0                0   \n",
       "3    ...          0         0      0                0   \n",
       "4    ...          0         0      0                0   \n",
       "\n",
       "   ETHNICITY_BLACK/AFRICAN AMERICAN  ETHNICITY_HISPANIC/LATINO  \\\n",
       "0                                 0                          0   \n",
       "1                                 0                          1   \n",
       "2                                 1                          0   \n",
       "3                                 0                          0   \n",
       "4                                 0                          0   \n",
       "\n",
       "   ETHNICITY_OTHER/UNKNOWN  ETHNICITY_WHITE GENDER_F  GENDER_M  \n",
       "0                        1                0        1         0  \n",
       "1                        0                0        0         1  \n",
       "2                        0                0        0         1  \n",
       "3                        0                1        0         1  \n",
       "4                        0                1        0         1  \n",
       "\n",
       "[5 rows x 3027 columns]"
      ]
     },
     "execution_count": 33,
     "metadata": {},
     "output_type": "execute_result"
    }
   ],
   "source": [
    "import matplotlib.pyplot as plt # to plot graph\n",
    "import seaborn as sns # for intractve graphs\n",
    "import numpy as np # for linear algebra\n",
    "import datetime # to dela with date and time\n",
    "%matplotlib inline\n",
    "from sklearn.preprocessing import StandardScaler # for preprocessing the data\n",
    "from sklearn.ensemble import RandomForestClassifier # Random forest classifier\n",
    "from sklearn.tree import DecisionTreeClassifier # for Decision Tree classifier\n",
    "from sklearn.svm import SVC # for SVM classification\n",
    "from sklearn.linear_model import LogisticRegression\n",
    "from sklearn.model_selection  import train_test_split # to split the data\n",
    "from sklearn.model_selection  import KFold # For cross vbalidation\n",
    "from sklearn.model_selection  import GridSearchCV # for tunnig hyper parameter it will use all combination of given parameters\n",
    "from sklearn.model_selection import RandomizedSearchCV # same for tunning hyper parameter but will use random combinations of parameters\n",
    "from sklearn.metrics import confusion_matrix,recall_score,precision_recall_curve,auc,roc_curve,roc_auc_score,classification_report\n",
    "import warnings\n",
    "from sklearn.metrics import roc_curve\n",
    "from sklearn.metrics import roc_auc_score\n",
    "import itertools\n",
    "from sklearn.metrics import confusion_matrix\n",
    "from sklearn.ensemble import RandomForestClassifier\n",
    "from sklearn.metrics import auc\n",
    "from sklearn.feature_selection import mutual_info_classif\n",
    "from sklearn.feature_selection import chi2\n",
    "from imblearn.over_sampling import RandomOverSampler\n",
    "from collections import Counter\n",
    "warnings.filterwarnings('ignore')\n",
    "data = df\n",
    "data.head()"
   ]
  },
  {
   "cell_type": "code",
   "execution_count": 34,
   "metadata": {},
   "outputs": [
    {
     "data": {
      "text/plain": [
       "(45059, 3019)"
      ]
     },
     "execution_count": 34,
     "metadata": {},
     "output_type": "execute_result"
    }
   ],
   "source": [
    "#data.drop(columns=['Unnamed: 0','Unnamed: 0.1'], inplace=True)\n",
    "numerics = ['int16', 'int32', 'int64', 'float16', 'float32', 'float64']\n",
    "df = data.select_dtypes(include=numerics)\n",
    "cols=list(df.columns)\n",
    "cols.remove('OUTPUT_LABEL')\n",
    "df.shape"
   ]
  },
  {
   "cell_type": "markdown",
   "metadata": {},
   "source": [
    "# Under sampling"
   ]
  },
  {
   "cell_type": "code",
   "execution_count": 35,
   "metadata": {},
   "outputs": [
    {
     "name": "stdout",
     "output_type": "stream",
     "text": [
      "Test prevalence(n = 9012): 0.06624500665778961\n",
      "Train all prevalence(n = 36047): 0.06547008072793853\n",
      "all samples (n = 45059)\n"
     ]
    }
   ],
   "source": [
    "# shuffle the samples\n",
    "df = df.sample(n = len(df), random_state = 42)\n",
    "df = df.reset_index(drop = True)\n",
    "\n",
    "# Save 30% of the data as validation and test data\n",
    "df_test=df.sample(frac=0.20,random_state=42)\n",
    "\n",
    "# use the rest of the data as training data\n",
    "df_train_all=df.drop(df_test.index)\n",
    "\n",
    "print('Test prevalence(n = %d):'%len(df_test),df_test.OUTPUT_LABEL.sum()/ len(df_test))\n",
    "print('Train all prevalence(n = %d):'%len(df_train_all), df_train_all.OUTPUT_LABEL.sum()/ len(df_train_all))\n",
    "print('all samples (n = %d)'%len(df))"
   ]
  },
  {
   "cell_type": "code",
   "execution_count": 36,
   "metadata": {},
   "outputs": [],
   "source": [
    "# split the training data into positive and negative\n",
    "rows_pos = df_train_all.OUTPUT_LABEL == 1\n",
    "df_train_pos = df_train_all.loc[rows_pos]\n",
    "df_train_neg = df_train_all.loc[~rows_pos]\n",
    "\n",
    "# merge the balanced data\n",
    "df_train = pd.concat([df_train_pos, df_train_neg.sample(n = len(df_train_pos), random_state = 42)],axis = 0)"
   ]
  },
  {
   "cell_type": "code",
   "execution_count": 37,
   "metadata": {},
   "outputs": [
    {
     "name": "stdout",
     "output_type": "stream",
     "text": [
      "Train prevalence (n = 4720): 0.5\n"
     ]
    }
   ],
   "source": [
    "# shuffle the order of training samples\n",
    "df_train = df_train.sample(n = len(df_train), random_state = 42).reset_index(drop = True)\n",
    "print('Train prevalence (n = %d):'%len(df_train), df_train.OUTPUT_LABEL.sum()/ len(df_train))"
   ]
  },
  {
   "cell_type": "code",
   "execution_count": 38,
   "metadata": {},
   "outputs": [],
   "source": [
    "X_train_tf = df_train[cols].values\n",
    "X_test_tf = df_test[cols].values\n",
    "y_train = df_train.OUTPUT_LABEL\n",
    "y_test = df_test.OUTPUT_LABEL"
   ]
  },
  {
   "cell_type": "code",
   "execution_count": 39,
   "metadata": {},
   "outputs": [
    {
     "name": "stdout",
     "output_type": "stream",
     "text": [
      "[0 1 1 1 0 1 1 0 1 1]\n",
      "[0.20666667 0.86666667 0.78333333 0.86666667 0.07       0.86333333\n",
      " 0.90666667 0.18       0.74       0.81333333]\n"
     ]
    }
   ],
   "source": [
    "#Randomforest\n",
    "clf=RandomForestClassifier(n_estimators=300)\n",
    "clf.fit(X_train_tf, y_train)\n",
    "\n",
    "model = clf\n",
    "y_train_preds = model.predict_proba(X_train_tf)[:,1]\n",
    "y_test_preds = model.predict_proba(X_test_tf)[:,1]\n",
    "print(y_train[:10].values)\n",
    "print(y_train_preds[:10])"
   ]
  },
  {
   "cell_type": "code",
   "execution_count": 40,
   "metadata": {},
   "outputs": [],
   "source": [
    "def calc_accuracy(y_actual, y_pred, thresh):\n",
    "    # this function calculates the accuracy with probability threshold at thresh\n",
    "    return (sum((y_pred > thresh) & (y_actual == 1))+sum((y_pred < thresh) & (y_actual == 0))) /len(y_actual)\n",
    "\n",
    "def calc_recall(y_actual, y_pred, thresh):\n",
    "    # calculates the recall\n",
    "    return sum((y_pred > thresh) & (y_actual == 1)) /sum(y_actual)\n",
    "\n",
    "def calc_precision(y_actual, y_pred, thresh):\n",
    "    # calculates the precision\n",
    "    return sum((y_pred > thresh) & (y_actual == 1)) /sum(y_pred > thresh)\n",
    "\n",
    "def calc_specificity(y_actual, y_pred, thresh):\n",
    "    # calculates specificity\n",
    "    return sum((y_pred < thresh) & (y_actual == 0)) /sum(y_actual ==0)\n",
    "\n",
    "def calc_prevalence(y_actual):\n",
    "    # calculates prevalence\n",
    "    return sum((y_actual == 1)) /len(y_actual)"
   ]
  },
  {
   "cell_type": "code",
   "execution_count": 41,
   "metadata": {},
   "outputs": [
    {
     "name": "stdout",
     "output_type": "stream",
     "text": [
      "Train AUC:1.000\n",
      "Test AUC:0.695\n",
      "Train accuracy:1.000\n",
      "Test accuracy:0.587\n",
      "Train recall:1.000\n",
      "Test recall:0.685\n",
      "Train precision:1.000\n",
      "Test precision:0.106\n",
      "Train specificity:1.000\n",
      "Test specificity:0.580\n",
      "Train prevalence:0.500\n",
      "Test prevalence:0.066\n"
     ]
    }
   ],
   "source": [
    "fpr_train, tpr_train, thresholds_train = roc_curve(y_train, y_train_preds)\n",
    "fpr_test, tpr_test, thresholds_tets = roc_curve(y_test, y_test_preds)\n",
    "\n",
    "\n",
    "thresh = 0.5\n",
    "\n",
    "auc_train = roc_auc_score(y_train, y_train_preds)\n",
    "auc_test = roc_auc_score(y_test, y_test_preds)\n",
    "\n",
    "print('Train AUC:%.3f'%auc_train)\n",
    "print('Test AUC:%.3f'%auc_test)\n",
    "\n",
    "print('Train accuracy:%.3f'%calc_accuracy(y_train, y_train_preds, thresh))\n",
    "print('Test accuracy:%.3f'%calc_accuracy(y_test, y_test_preds, thresh))\n",
    "\n",
    "\n",
    "print('Train recall:%.3f'%calc_recall(y_train, y_train_preds, thresh))\n",
    "print('Test recall:%.3f'%calc_recall(y_test,y_test_preds, thresh))\n",
    "\n",
    "print('Train precision:%.3f'%calc_precision(y_train, y_train_preds, thresh))\n",
    "print('Test precision:%.3f'%calc_precision(y_test, y_test_preds, thresh))\n",
    "\n",
    "print('Train specificity:%.3f'%calc_specificity(y_train, y_train_preds, thresh))\n",
    "print('Test specificity:%.3f'%calc_specificity(y_test, y_test_preds, thresh))\n",
    "\n",
    "print('Train prevalence:%.3f'%calc_prevalence(y_train))\n",
    "print('Test prevalence:%.3f'%calc_prevalence(y_test))"
   ]
  },
  {
   "cell_type": "code",
   "execution_count": 42,
   "metadata": {},
   "outputs": [
    {
     "data": {
      "image/png": "[encoded data removed]",
      "text/plain": [
       "<Figure size 432x288 with 1 Axes>"
      ]
     },
     "metadata": {},
     "output_type": "display_data"
    }
   ],
   "source": [
    "plt.plot(fpr_train, tpr_train,'r-', label = 'Train AUC: %.2f'%auc_train)\n",
    "plt.plot(fpr_test, tpr_test,'b-',label = 'Test AUC: %.2f'%auc_test)\n",
    "plt.plot([0,1],[0,1],'-k')\n",
    "plt.xlabel('False Positive Rate')\n",
    "plt.ylabel('True Positive Rate')\n",
    "plt.legend()\n",
    "plt.show()"
   ]
  },
  {
   "cell_type": "code",
   "execution_count": 43,
   "metadata": {},
   "outputs": [
    {
     "data": {
      "image/png": "[encoded data removed]",
      "text/plain": [
       "<Figure size 432x288 with 2 Axes>"
      ]
     },
     "metadata": {},
     "output_type": "display_data"
    }
   ],
   "source": [
    "def plot_confusion_matrix(cm, classes,normalize=False,title='Confusion matrix',cmap=plt.cm.Blues):\n",
    "    #print(cm)\n",
    "    plt.imshow(cm, interpolation='nearest', cmap=cmap)\n",
    "    plt.title(title)\n",
    "    plt.colorbar()\n",
    "    tick_marks = np.arange(len(classes))\n",
    "    plt.xticks(tick_marks, classes)\n",
    "    plt.yticks(tick_marks, classes)\n",
    "    fmt = '.2f'\n",
    "    thresh = cm.max() / 2.\n",
    "    for i, j in itertools.product(range(cm.shape[0]), range(cm.shape[1])):\n",
    "        plt.text(j, i, format(cm[i, j], fmt),\n",
    "                 horizontalalignment=\"center\",\n",
    "                 color=\"white\" if cm[i, j] > thresh else \"black\")\n",
    "\n",
    "    plt.ylabel('True label')\n",
    "    plt.xlabel('Predicted label')\n",
    "    plt.tight_layout()\n",
    "\n",
    "\n",
    "cnf_matrix=confusion_matrix(y_test,y_test_preds.round())\n",
    "plot_confusion_matrix(cnf_matrix,classes=[0,1])\n",
    "plt.show()"
   ]
  },
  {
   "cell_type": "code",
   "execution_count": 44,
   "metadata": {},
   "outputs": [
    {
     "data": {
      "text/html": [
       "<div>\n",
       "<style scoped>\n",
       "    .dataframe tbody tr th:only-of-type {\n",
       "        vertical-align: middle;\n",
       "    }\n",
       "\n",
       "    .dataframe tbody tr th {\n",
       "        vertical-align: top;\n",
       "    }\n",
       "\n",
       "    .dataframe thead th {\n",
       "        text-align: right;\n",
       "    }\n",
       "</style>\n",
       "<table border=\"1\" class=\"dataframe\">\n",
       "  <thead>\n",
       "    <tr style=\"text-align: right;\">\n",
       "      <th></th>\n",
       "      <th>Output_label</th>\n",
       "      <th>rf</th>\n",
       "    </tr>\n",
       "  </thead>\n",
       "  <tbody>\n",
       "    <tr>\n",
       "      <th>1232</th>\n",
       "      <td>0</td>\n",
       "      <td>0.5</td>\n",
       "    </tr>\n",
       "    <tr>\n",
       "      <th>24177</th>\n",
       "      <td>1</td>\n",
       "      <td>0.7</td>\n",
       "    </tr>\n",
       "    <tr>\n",
       "      <th>31534</th>\n",
       "      <td>0</td>\n",
       "      <td>0.4</td>\n",
       "    </tr>\n",
       "    <tr>\n",
       "      <th>34035</th>\n",
       "      <td>0</td>\n",
       "      <td>0.3</td>\n",
       "    </tr>\n",
       "    <tr>\n",
       "      <th>17963</th>\n",
       "      <td>0</td>\n",
       "      <td>0.7</td>\n",
       "    </tr>\n",
       "    <tr>\n",
       "      <th>40499</th>\n",
       "      <td>0</td>\n",
       "      <td>0.5</td>\n",
       "    </tr>\n",
       "    <tr>\n",
       "      <th>36475</th>\n",
       "      <td>0</td>\n",
       "      <td>0.4</td>\n",
       "    </tr>\n",
       "    <tr>\n",
       "      <th>33321</th>\n",
       "      <td>0</td>\n",
       "      <td>0.3</td>\n",
       "    </tr>\n",
       "    <tr>\n",
       "      <th>45052</th>\n",
       "      <td>0</td>\n",
       "      <td>0.4</td>\n",
       "    </tr>\n",
       "    <tr>\n",
       "      <th>31780</th>\n",
       "      <td>0</td>\n",
       "      <td>0.3</td>\n",
       "    </tr>\n",
       "  </tbody>\n",
       "</table>\n",
       "</div>"
      ],
      "text/plain": [
       "       Output_label   rf\n",
       "1232              0  0.5\n",
       "24177             1  0.7\n",
       "31534             0  0.4\n",
       "34035             0  0.3\n",
       "17963             0  0.7\n",
       "40499             0  0.5\n",
       "36475             0  0.4\n",
       "33321             0  0.3\n",
       "45052             0  0.4\n",
       "31780             0  0.3"
      ]
     },
     "execution_count": 44,
     "metadata": {},
     "output_type": "execute_result"
    }
   ],
   "source": [
    "rf = RandomForestClassifier()\n",
    "rf.fit(X_train_tf, y_train)\n",
    "probs_rf = rf.predict_proba(X_test_tf)\n",
    "res = pd.DataFrame()\n",
    "res['Output_label'] = y_test\n",
    "res['rf'] = probs_rf[:,1]\n",
    "res.head(10)"
   ]
  },
  {
   "cell_type": "code",
   "execution_count": 45,
   "metadata": {},
   "outputs": [
    {
     "name": "stdout",
     "output_type": "stream",
     "text": [
      "0.6233749456332963\n"
     ]
    }
   ],
   "source": [
    "fpr_rf, tpr_rf, threshold_rf = roc_curve(res['Output_label'] , res['rf'])\n",
    "auc_rf = auc(fpr_rf ,tpr_rf)\n",
    "print(auc_rf)"
   ]
  },
  {
   "cell_type": "code",
   "execution_count": 46,
   "metadata": {},
   "outputs": [
    {
     "data": {
      "image/png": "[encoded data removed]",
      "text/plain": [
       "<Figure size 432x288 with 1 Axes>"
      ]
     },
     "metadata": {},
     "output_type": "display_data"
    }
   ],
   "source": [
    "rf = dict()\n",
    "probs_rf = dict()\n",
    "fpr_rf = dict()\n",
    "tpr_rf = dict()\n",
    "thresholds_rf = dict()\n",
    "auc_rf = dict()\n",
    "Auc =[]\n",
    "Number_of_Estimators =[]\n",
    "for n in range(100, 1000, 100):\n",
    "    rf[n]=RandomForestClassifier(n_estimators =n)\n",
    "    rf[n].fit(X_train_tf, y_train)\n",
    "    probs_rf[n]=rf[n].predict_proba(X_test_tf)\n",
    "    fpr_rf[n], tpr_rf[n], thresholds_rf[n] = roc_curve(y_test,probs_rf[n][:,1])\n",
    "    auc_rf[n]=auc(fpr_rf[n],tpr_rf[n])\n",
    "    Auc.append(auc_rf[n])\n",
    "    Number_of_Estimators.append(n)\n",
    "    plt.title('Random Forest')\n",
    "    plt.plot(fpr_rf[n], tpr_rf[n],label = \"{} Number of Estimators\".format(n))\n",
    "    plt.legend(loc='center left', bbox_to_anchor=(1, 0.5))"
   ]
  },
  {
   "cell_type": "code",
   "execution_count": 47,
   "metadata": {},
   "outputs": [
    {
     "data": {
      "text/plain": [
       "<matplotlib.axes._subplots.AxesSubplot at 0x20cccbc9f28>"
      ]
     },
     "execution_count": 47,
     "metadata": {},
     "output_type": "execute_result"
    },
    {
     "data": {
      "image/png": "[encoded data removed]",
      "text/plain": [
       "<Figure size 432x288 with 1 Axes>"
      ]
     },
     "metadata": {},
     "output_type": "display_data"
    }
   ],
   "source": [
    "aucperf= pd.DataFrame({'No_of_Estimators':Number_of_Estimators,'Auc':Auc})\n",
    "aucperf.plot.scatter(x='No_of_Estimators',y='Auc',c='DarkBlue',title = 'Random Forest')"
   ]
  },
  {
   "cell_type": "markdown",
   "metadata": {},
   "source": [
    "#  Feature Selection"
   ]
  },
  {
   "cell_type": "code",
   "execution_count": 49,
   "metadata": {},
   "outputs": [],
   "source": [
    "mic = mutual_info_classif(X_train_tf, y_train)\n",
    "mic\n",
    "s = pd.DataFrame()\n",
    "s['att'] = cols\n",
    "s['mic'] = mic\n",
    "chi2 = chi2(X_train_tf, y_train)\n",
    "s['chi2'] = chi2[0]"
   ]
  },
  {
   "cell_type": "code",
   "execution_count": 50,
   "metadata": {},
   "outputs": [
    {
     "data": {
      "image/png": "[encoded data removed]",
      "text/plain": [
       "<Figure size 432x288 with 1 Axes>"
      ]
     },
     "metadata": {},
     "output_type": "display_data"
    }
   ],
   "source": [
    "rf200=RandomForestClassifier(n_estimators=200)\n",
    "Auc =[]\n",
    "No_of_Attributes =[]\n",
    "for n in range(100, 3000, 100):\n",
    "    cols_sel_mic=s.sort_values('mic', ascending=False)['att'][:n]\n",
    "    rf200.fit(df_train[cols_sel_mic],df_train['OUTPUT_LABEL'])\n",
    "    probs_rf200=rf200.predict_proba(df_test[cols_sel_mic])\n",
    "    fpr_rf200, tpr_rf200, thresholds_rf200 = roc_curve(df_test['OUTPUT_LABEL'],probs_rf200[:,1])\n",
    "    auc_rf200=auc(fpr_rf200,tpr_rf200)\n",
    "    Auc.append(auc_rf200)\n",
    "    No_of_Attributes.append(n)\n",
    "    plt.title('Random Forest')\n",
    "    plt.plot(fpr_rf200, tpr_rf200,label =\" {} Number of attributes\".format(n))\n",
    "    plt.legend(loc='Right')"
   ]
  },
  {
   "cell_type": "code",
   "execution_count": 51,
   "metadata": {},
   "outputs": [
    {
     "data": {
      "text/plain": [
       "<matplotlib.axes._subplots.AxesSubplot at 0x20c398d1a58>"
      ]
     },
     "execution_count": 51,
     "metadata": {},
     "output_type": "execute_result"
    },
    {
     "data": {
      "image/png": "[encoded data removed]",
      "text/plain": [
       "<Figure size 432x288 with 1 Axes>"
      ]
     },
     "metadata": {},
     "output_type": "display_data"
    }
   ],
   "source": [
    "aucperf= pd.DataFrame({'No_of_Attributes':No_of_Attributes,'Auc':Auc})\n",
    "aucperf.plot.scatter(x='No_of_Attributes',y='Auc',c='DarkBlue',title = 'Random Forest')"
   ]
  },
  {
   "cell_type": "markdown",
   "metadata": {},
   "source": [
    "# Over Sampling"
   ]
  },
  {
   "cell_type": "code",
   "execution_count": 52,
   "metadata": {},
   "outputs": [],
   "source": [
    "df_test.shape\n",
    "df_train_all.shape\n",
    "\n",
    "X_train = df_train_all[cols].values\n",
    "y_train = df_train_all.OUTPUT_LABEL"
   ]
  },
  {
   "cell_type": "code",
   "execution_count": 53,
   "metadata": {},
   "outputs": [
    {
     "name": "stdout",
     "output_type": "stream",
     "text": [
      "Distribution of class labels before resampling Counter({0: 33687, 1: 2360})\n",
      "Distribution of class labels after resampling Counter({0: 33687, 1: 33687})\n"
     ]
    }
   ],
   "source": [
    "os =  RandomOverSampler(ratio=1)\n",
    "X_train_res, y_train_res = os.fit_sample(X_train, y_train)\n",
    "\n",
    "print (\"Distribution of class labels before resampling {}\".format(Counter(y_train)))\n",
    "print (\"Distribution of class labels after resampling {}\".format(Counter(y_train_res)))"
   ]
  },
  {
   "cell_type": "code",
   "execution_count": 54,
   "metadata": {},
   "outputs": [
    {
     "data": {
      "text/plain": [
       "(9012,)"
      ]
     },
     "execution_count": 54,
     "metadata": {},
     "output_type": "execute_result"
    }
   ],
   "source": [
    "X_test_tf.shape\n",
    "y_test.shape"
   ]
  },
  {
   "cell_type": "code",
   "execution_count": 57,
   "metadata": {},
   "outputs": [],
   "source": [
    "clf=RandomForestClassifier(n_estimators=300)\n",
    "clf.fit(X_train_res, y_train_res)\n",
    "\n",
    "model = clf\n",
    "y_train_preds = model.predict_proba(X_train_res)[:,1]\n",
    "y_test_preds = model.predict_proba(X_test_tf)[:,1]"
   ]
  },
  {
   "cell_type": "code",
   "execution_count": 58,
   "metadata": {},
   "outputs": [
    {
     "name": "stdout",
     "output_type": "stream",
     "text": [
      "Train AUC:1.000\n",
      "Test AUC:0.701\n",
      "Train accuracy:1.000\n",
      "Test accuracy:0.934\n",
      "Train recall:1.000\n",
      "Test recall:0.003\n",
      "Train precision:1.000\n",
      "Test precision:0.500\n",
      "Train specificity:1.000\n",
      "Test specificity:1.000\n",
      "Train prevalence:0.500\n",
      "Test prevalence:0.066\n"
     ]
    },
    {
     "data": {
      "image/png": "[encoded data removed]",
      "text/plain": [
       "<Figure size 432x288 with 1 Axes>"
      ]
     },
     "metadata": {},
     "output_type": "display_data"
    }
   ],
   "source": [
    "fpr_train, tpr_train, thresholds_train = roc_curve(y_train_res, y_train_preds)\n",
    "fpr_test, tpr_test, thresholds_tets = roc_curve(y_test, y_test_preds)\n",
    "\n",
    "\n",
    "thresh = 0.5\n",
    "\n",
    "auc_train = roc_auc_score(y_train_res, y_train_preds)\n",
    "auc_test = roc_auc_score(y_test, y_test_preds)\n",
    "\n",
    "print('Train AUC:%.3f'%auc_train)\n",
    "print('Test AUC:%.3f'%auc_test)\n",
    "\n",
    "print('Train accuracy:%.3f'%calc_accuracy(y_train_res, y_train_preds, thresh))\n",
    "print('Test accuracy:%.3f'%calc_accuracy(y_test, y_test_preds, thresh))\n",
    "\n",
    "\n",
    "print('Train recall:%.3f'%calc_recall(y_train_res, y_train_preds, thresh))\n",
    "print('Test recall:%.3f'%calc_recall(y_test,y_test_preds, thresh))\n",
    "\n",
    "print('Train precision:%.3f'%calc_precision(y_train_res, y_train_preds, thresh))\n",
    "print('Test precision:%.3f'%calc_precision(y_test, y_test_preds, thresh))\n",
    "\n",
    "print('Train specificity:%.3f'%calc_specificity(y_train_res, y_train_preds, thresh))\n",
    "print('Test specificity:%.3f'%calc_specificity(y_test, y_test_preds, thresh))\n",
    "\n",
    "print('Train prevalence:%.3f'%calc_prevalence(y_train_res))\n",
    "print('Test prevalence:%.3f'%calc_prevalence(y_test))\n",
    "\n",
    "\n",
    "plt.plot(fpr_train, tpr_train,'r-', label = 'Train AUC: %.2f'%auc_train)\n",
    "plt.plot(fpr_test, tpr_test,'b-',label = 'Test AUC: %.2f'%auc_test)\n",
    "plt.plot([0,1],[0,1],'-k')\n",
    "plt.xlabel('False Positive Rate')\n",
    "plt.ylabel('True Positive Rate')\n",
    "plt.legend()\n",
    "plt.show()"
   ]
  },
  {
   "cell_type": "code",
   "execution_count": 59,
   "metadata": {},
   "outputs": [
    {
     "data": {
      "image/png": "[encoded data removed]",
      "text/plain": [
       "<Figure size 432x288 with 2 Axes>"
      ]
     },
     "metadata": {},
     "output_type": "display_data"
    }
   ],
   "source": [
    "cnf_matrix=confusion_matrix(y_test,y_test_preds.round())\n",
    "plot_confusion_matrix(cnf_matrix,classes=[0,1])\n",
    "plt.show()"
   ]
  },
  {
   "cell_type": "markdown",
   "metadata": {},
   "source": [
    "# Over Sampling And Undersampling "
   ]
  },
  {
   "cell_type": "code",
   "execution_count": 60,
   "metadata": {},
   "outputs": [],
   "source": [
    "X_test1=df_test[cols]\n",
    "X_train1=df_train_all[cols]\n",
    "y_test1=df_test.OUTPUT_LABEL\n",
    "y_train1=df_train_all.OUTPUT_LABEL"
   ]
  },
  {
   "cell_type": "code",
   "execution_count": 61,
   "metadata": {},
   "outputs": [],
   "source": [
    "from sklearn.metrics import recall_score,accuracy_score,confusion_matrix, f1_score, precision_score, auc,roc_auc_score,roc_curve, precision_recall_curve\n",
    "from imblearn.over_sampling import SMOTE, RandomOverSampler\n",
    "from imblearn.under_sampling import ClusterCentroids,NearMiss, RandomUnderSampler\n",
    "from imblearn.combine import SMOTEENN,SMOTETomek\n",
    "from imblearn.ensemble import BalanceCascade\n",
    "from sklearn.linear_model import LogisticRegression\n",
    "from sklearn.model_selection  import KFold, cross_val_score\n",
    "from sklearn.model_selection import GridSearchCV\n",
    "from sklearn.metrics import confusion_matrix,precision_recall_curve,auc,roc_auc_score,roc_curve,recall_score,classification_report\n",
    "from sklearn.model_selection import train_test_split\n",
    "from sklearn.preprocessing import StandardScaler"
   ]
  },
  {
   "cell_type": "code",
   "execution_count": 62,
   "metadata": {},
   "outputs": [
    {
     "name": "stdout",
     "output_type": "stream",
     "text": [
      "(9012, 3018)\n",
      "(9012,)\n",
      "(36047, 3018)\n",
      "(36047,)\n"
     ]
    }
   ],
   "source": [
    "print(X_test1.shape)\n",
    "print(y_test1.shape)\n",
    "print(X_train1.shape)\n",
    "print(y_train1.shape)"
   ]
  },
  {
   "cell_type": "code",
   "execution_count": 64,
   "metadata": {},
   "outputs": [],
   "source": [
    "def benchmark(sampling_type,X,y):\n",
    "    lr = LogisticRegression(penalty = 'l1')\n",
    "    param_grid = {'C':[0.01,0.1,1,10]}\n",
    "    gs = GridSearchCV(estimator=lr, param_grid=param_grid, scoring='accuracy', cv=5, verbose=2)\n",
    "    gs = gs.fit(X,y)\n",
    "    return sampling_type,gs.best_score_,gs.best_params_['C']\n",
    "\n",
    "def transform(transformer,X,y):\n",
    "    print(\"Transforming {}\".format(transformer.__class__.__name__))\n",
    "    X_resampled,y_resampled = transformer.fit_sample(X,y)\n",
    "    return transformer.__class__.__name__,pd.DataFrame(X_resampled), pd.DataFrame(y_resampled)"
   ]
  },
  {
   "cell_type": "code",
   "execution_count": 65,
   "metadata": {},
   "outputs": [
    {
     "name": "stdout",
     "output_type": "stream",
     "text": [
      "Transforming SMOTE\n",
      "Transforming RandomOverSampler\n",
      "Transforming NearMiss\n",
      "Transforming RandomUnderSampler\n"
     ]
    }
   ],
   "source": [
    "datasets = []\n",
    "datasets.append((\"base\",X_train1,y_train1))\n",
    "datasets.append(transform(SMOTE(n_jobs=-1),X_train1,y_train1))\n",
    "datasets.append(transform(RandomOverSampler(),X_train1,y_train1))\n",
    "datasets.append(transform(NearMiss(n_jobs=-1),X_train1,y_train1))\n",
    "datasets.append(transform(RandomUnderSampler(),X_train1,y_train1))"
   ]
  },
  {
   "cell_type": "code",
   "execution_count": 66,
   "metadata": {},
   "outputs": [
    {
     "name": "stdout",
     "output_type": "stream",
     "text": [
      "______________________________________________________________\n",
      "base\n",
      "Fitting 5 folds for each of 4 candidates, totalling 20 fits\n",
      "[CV] C=0.01 ..........................................................\n"
     ]
    },
    {
     "name": "stderr",
     "output_type": "stream",
     "text": [
      "[Parallel(n_jobs=1)]: Using backend SequentialBackend with 1 concurrent workers.\n"
     ]
    },
    {
     "name": "stdout",
     "output_type": "stream",
     "text": [
      "[CV] ........................................... C=0.01, total=   4.2s\n",
      "[CV] C=0.01 ..........................................................\n"
     ]
    },
    {
     "name": "stderr",
     "output_type": "stream",
     "text": [
      "[Parallel(n_jobs=1)]: Done   1 out of   1 | elapsed:    4.8s remaining:    0.0s\n"
     ]
    },
    {
     "name": "stdout",
     "output_type": "stream",
     "text": [
      "[CV] ........................................... C=0.01, total=   3.9s\n",
      "[CV] C=0.01 ..........................................................\n",
      "[CV] ........................................... C=0.01, total=   3.8s\n",
      "[CV] C=0.01 ..........................................................\n",
      "[CV] ........................................... C=0.01, total=   3.7s\n",
      "[CV] C=0.01 ..........................................................\n",
      "[CV] ........................................... C=0.01, total=   3.6s\n",
      "[CV] C=0.1 ...........................................................\n",
      "[CV] ............................................ C=0.1, total=  11.0s\n",
      "[CV] C=0.1 ...........................................................\n",
      "[CV] ............................................ C=0.1, total=  11.1s\n",
      "[CV] C=0.1 ...........................................................\n",
      "[CV] ............................................ C=0.1, total=  11.8s\n",
      "[CV] C=0.1 ...........................................................\n",
      "[CV] ............................................ C=0.1, total=  10.5s\n",
      "[CV] C=0.1 ...........................................................\n",
      "[CV] ............................................ C=0.1, total=  13.3s\n",
      "[CV] C=1 .............................................................\n",
      "[CV] .............................................. C=1, total=  24.7s\n",
      "[CV] C=1 .............................................................\n",
      "[CV] .............................................. C=1, total=  27.0s\n",
      "[CV] C=1 .............................................................\n",
      "[CV] .............................................. C=1, total=  22.4s\n",
      "[CV] C=1 .............................................................\n",
      "[CV] .............................................. C=1, total=  28.6s\n",
      "[CV] C=1 .............................................................\n",
      "[CV] .............................................. C=1, total=  25.8s\n",
      "[CV] C=10 ............................................................\n",
      "[CV] ............................................. C=10, total=  25.0s\n",
      "[CV] C=10 ............................................................\n",
      "[CV] ............................................. C=10, total=  30.1s\n",
      "[CV] C=10 ............................................................\n",
      "[CV] ............................................. C=10, total=  30.0s\n",
      "[CV] C=10 ............................................................\n",
      "[CV] ............................................. C=10, total=  29.2s\n",
      "[CV] C=10 ............................................................\n",
      "[CV] ............................................. C=10, total=  28.3s\n"
     ]
    },
    {
     "name": "stderr",
     "output_type": "stream",
     "text": [
      "[Parallel(n_jobs=1)]: Done  20 out of  20 | elapsed:  6.0min finished\n"
     ]
    },
    {
     "name": "stdout",
     "output_type": "stream",
     "text": [
      "______________________________________________________________\n",
      "______________________________________________________________\n",
      "SMOTE\n",
      "Fitting 5 folds for each of 4 candidates, totalling 20 fits\n",
      "[CV] C=0.01 ..........................................................\n"
     ]
    },
    {
     "name": "stderr",
     "output_type": "stream",
     "text": [
      "[Parallel(n_jobs=1)]: Using backend SequentialBackend with 1 concurrent workers.\n"
     ]
    },
    {
     "name": "stdout",
     "output_type": "stream",
     "text": [
      "[CV] ........................................... C=0.01, total=  15.5s\n",
      "[CV] C=0.01 ..........................................................\n"
     ]
    },
    {
     "name": "stderr",
     "output_type": "stream",
     "text": [
      "[Parallel(n_jobs=1)]: Done   1 out of   1 | elapsed:   16.1s remaining:    0.0s\n"
     ]
    },
    {
     "name": "stdout",
     "output_type": "stream",
     "text": [
      "[CV] ........................................... C=0.01, total=  14.1s\n",
      "[CV] C=0.01 ..........................................................\n",
      "[CV] ........................................... C=0.01, total=   9.7s\n",
      "[CV] C=0.01 ..........................................................\n",
      "[CV] ........................................... C=0.01, total=  13.8s\n",
      "[CV] C=0.01 ..........................................................\n",
      "[CV] ........................................... C=0.01, total=   9.2s\n",
      "[CV] C=0.1 ...........................................................\n",
      "[CV] ............................................ C=0.1, total=  59.1s\n",
      "[CV] C=0.1 ...........................................................\n",
      "[CV] ............................................ C=0.1, total=  47.0s\n",
      "[CV] C=0.1 ...........................................................\n",
      "[CV] ............................................ C=0.1, total=  36.4s\n",
      "[CV] C=0.1 ...........................................................\n",
      "[CV] ............................................ C=0.1, total=  42.1s\n",
      "[CV] C=0.1 ...........................................................\n",
      "[CV] ............................................ C=0.1, total= 1.3min\n",
      "[CV] C=1 .............................................................\n",
      "[CV] .............................................. C=1, total= 1.3min\n",
      "[CV] C=1 .............................................................\n",
      "[CV] .............................................. C=1, total= 1.5min\n",
      "[CV] C=1 .............................................................\n",
      "[CV] .............................................. C=1, total= 1.4min\n",
      "[CV] C=1 .............................................................\n",
      "[CV] .............................................. C=1, total= 1.3min\n",
      "[CV] C=1 .............................................................\n",
      "[CV] .............................................. C=1, total= 1.4min\n",
      "[CV] C=10 ............................................................\n",
      "[CV] ............................................. C=10, total= 1.4min\n",
      "[CV] C=10 ............................................................\n",
      "[CV] ............................................. C=10, total= 1.7min\n",
      "[CV] C=10 ............................................................\n",
      "[CV] ............................................. C=10, total= 1.6min\n",
      "[CV] C=10 ............................................................\n",
      "[CV] ............................................. C=10, total= 1.4min\n",
      "[CV] C=10 ............................................................\n",
      "[CV] ............................................. C=10, total= 1.4min\n"
     ]
    },
    {
     "name": "stderr",
     "output_type": "stream",
     "text": [
      "[Parallel(n_jobs=1)]: Done  20 out of  20 | elapsed: 20.1min finished\n"
     ]
    },
    {
     "name": "stdout",
     "output_type": "stream",
     "text": [
      "______________________________________________________________\n",
      "______________________________________________________________\n",
      "RandomOverSampler\n",
      "Fitting 5 folds for each of 4 candidates, totalling 20 fits\n",
      "[CV] C=0.01 ..........................................................\n"
     ]
    },
    {
     "name": "stderr",
     "output_type": "stream",
     "text": [
      "[Parallel(n_jobs=1)]: Using backend SequentialBackend with 1 concurrent workers.\n"
     ]
    },
    {
     "name": "stdout",
     "output_type": "stream",
     "text": [
      "[CV] ........................................... C=0.01, total=  15.0s\n",
      "[CV] C=0.01 ..........................................................\n"
     ]
    },
    {
     "name": "stderr",
     "output_type": "stream",
     "text": [
      "[Parallel(n_jobs=1)]: Done   1 out of   1 | elapsed:   15.5s remaining:    0.0s\n"
     ]
    },
    {
     "name": "stdout",
     "output_type": "stream",
     "text": [
      "[CV] ........................................... C=0.01, total=  11.0s\n",
      "[CV] C=0.01 ..........................................................\n",
      "[CV] ........................................... C=0.01, total=  15.3s\n",
      "[CV] C=0.01 ..........................................................\n",
      "[CV] ........................................... C=0.01, total=  11.0s\n",
      "[CV] C=0.01 ..........................................................\n",
      "[CV] ........................................... C=0.01, total=  10.5s\n",
      "[CV] C=0.1 ...........................................................\n",
      "[CV] ............................................ C=0.1, total=  31.8s\n",
      "[CV] C=0.1 ...........................................................\n",
      "[CV] ............................................ C=0.1, total=  38.7s\n",
      "[CV] C=0.1 ...........................................................\n",
      "[CV] ............................................ C=0.1, total= 1.2min\n",
      "[CV] C=0.1 ...........................................................\n",
      "[CV] ............................................ C=0.1, total= 1.2min\n",
      "[CV] C=0.1 ...........................................................\n",
      "[CV] ............................................ C=0.1, total=  33.7s\n",
      "[CV] C=1 .............................................................\n",
      "[CV] .............................................. C=1, total=  57.8s\n",
      "[CV] C=1 .............................................................\n",
      "[CV] .............................................. C=1, total= 1.1min\n",
      "[CV] C=1 .............................................................\n",
      "[CV] .............................................. C=1, total= 1.1min\n",
      "[CV] C=1 .............................................................\n",
      "[CV] .............................................. C=1, total=  59.8s\n",
      "[CV] C=1 .............................................................\n",
      "[CV] .............................................. C=1, total=  58.5s\n",
      "[CV] C=10 ............................................................\n",
      "[CV] ............................................. C=10, total= 1.1min\n",
      "[CV] C=10 ............................................................\n",
      "[CV] ............................................. C=10, total= 2.3min\n",
      "[CV] C=10 ............................................................\n",
      "[CV] ............................................. C=10, total= 1.1min\n",
      "[CV] C=10 ............................................................\n",
      "[CV] ............................................. C=10, total= 1.0min\n",
      "[CV] C=10 ............................................................\n",
      "[CV] ............................................. C=10, total= 1.1min\n"
     ]
    },
    {
     "name": "stderr",
     "output_type": "stream",
     "text": [
      "[Parallel(n_jobs=1)]: Done  20 out of  20 | elapsed: 17.0min finished\n"
     ]
    },
    {
     "name": "stdout",
     "output_type": "stream",
     "text": [
      "______________________________________________________________\n",
      "______________________________________________________________\n",
      "NearMiss\n",
      "Fitting 5 folds for each of 4 candidates, totalling 20 fits\n",
      "[CV] C=0.01 ..........................................................\n"
     ]
    },
    {
     "name": "stderr",
     "output_type": "stream",
     "text": [
      "[Parallel(n_jobs=1)]: Using backend SequentialBackend with 1 concurrent workers.\n"
     ]
    },
    {
     "name": "stdout",
     "output_type": "stream",
     "text": [
      "[CV] ........................................... C=0.01, total=   0.1s\n",
      "[CV] C=0.01 ..........................................................\n"
     ]
    },
    {
     "name": "stderr",
     "output_type": "stream",
     "text": [
      "[Parallel(n_jobs=1)]: Done   1 out of   1 | elapsed:    0.1s remaining:    0.0s\n"
     ]
    },
    {
     "name": "stdout",
     "output_type": "stream",
     "text": [
      "[CV] ........................................... C=0.01, total=   0.1s\n",
      "[CV] C=0.01 ..........................................................\n",
      "[CV] ........................................... C=0.01, total=   0.1s\n",
      "[CV] C=0.01 ..........................................................\n",
      "[CV] ........................................... C=0.01, total=   0.1s\n",
      "[CV] C=0.01 ..........................................................\n",
      "[CV] ........................................... C=0.01, total=   0.1s\n",
      "[CV] C=0.1 ...........................................................\n",
      "[CV] ............................................ C=0.1, total=   0.1s\n",
      "[CV] C=0.1 ...........................................................\n",
      "[CV] ............................................ C=0.1, total=   0.1s\n",
      "[CV] C=0.1 ...........................................................\n",
      "[CV] ............................................ C=0.1, total=   0.1s\n",
      "[CV] C=0.1 ...........................................................\n",
      "[CV] ............................................ C=0.1, total=   0.1s\n",
      "[CV] C=0.1 ...........................................................\n",
      "[CV] ............................................ C=0.1, total=   0.1s\n",
      "[CV] C=1 .............................................................\n",
      "[CV] .............................................. C=1, total=   0.2s\n",
      "[CV] C=1 .............................................................\n",
      "[CV] .............................................. C=1, total=   0.1s\n",
      "[CV] C=1 .............................................................\n",
      "[CV] .............................................. C=1, total=   0.1s\n",
      "[CV] C=1 .............................................................\n",
      "[CV] .............................................. C=1, total=   0.2s\n",
      "[CV] C=1 .............................................................\n",
      "[CV] .............................................. C=1, total=   0.2s\n",
      "[CV] C=10 ............................................................\n",
      "[CV] ............................................. C=10, total=   0.2s\n",
      "[CV] C=10 ............................................................\n",
      "[CV] ............................................. C=10, total=   0.2s\n",
      "[CV] C=10 ............................................................\n",
      "[CV] ............................................. C=10, total=   0.3s\n",
      "[CV] C=10 ............................................................\n",
      "[CV] ............................................. C=10, total=   0.3s\n",
      "[CV] C=10 ............................................................\n",
      "[CV] ............................................. C=10, total=   0.2s\n",
      "______________________________________________________________\n",
      "______________________________________________________________\n",
      "RandomUnderSampler\n",
      "Fitting 5 folds for each of 4 candidates, totalling 20 fits\n",
      "[CV] C=0.01 ..........................................................\n"
     ]
    },
    {
     "name": "stderr",
     "output_type": "stream",
     "text": [
      "[Parallel(n_jobs=1)]: Done  20 out of  20 | elapsed:    6.0s finished\n",
      "[Parallel(n_jobs=1)]: Using backend SequentialBackend with 1 concurrent workers.\n"
     ]
    },
    {
     "name": "stdout",
     "output_type": "stream",
     "text": [
      "[CV] ........................................... C=0.01, total=   0.2s\n",
      "[CV] C=0.01 ..........................................................\n"
     ]
    },
    {
     "name": "stderr",
     "output_type": "stream",
     "text": [
      "[Parallel(n_jobs=1)]: Done   1 out of   1 | elapsed:    0.2s remaining:    0.0s\n"
     ]
    },
    {
     "name": "stdout",
     "output_type": "stream",
     "text": [
      "[CV] ........................................... C=0.01, total=   0.2s\n",
      "[CV] C=0.01 ..........................................................\n",
      "[CV] ........................................... C=0.01, total=   0.1s\n",
      "[CV] C=0.01 ..........................................................\n",
      "[CV] ........................................... C=0.01, total=   0.2s\n",
      "[CV] C=0.01 ..........................................................\n",
      "[CV] ........................................... C=0.01, total=   0.1s\n",
      "[CV] C=0.1 ...........................................................\n",
      "[CV] ............................................ C=0.1, total=   0.7s\n",
      "[CV] C=0.1 ...........................................................\n",
      "[CV] ............................................ C=0.1, total=   0.5s\n",
      "[CV] C=0.1 ...........................................................\n",
      "[CV] ............................................ C=0.1, total=   0.4s\n",
      "[CV] C=0.1 ...........................................................\n",
      "[CV] ............................................ C=0.1, total=   0.7s\n",
      "[CV] C=0.1 ...........................................................\n",
      "[CV] ............................................ C=0.1, total=   0.4s\n",
      "[CV] C=1 .............................................................\n",
      "[CV] .............................................. C=1, total=   3.2s\n",
      "[CV] C=1 .............................................................\n",
      "[CV] .............................................. C=1, total=   2.3s\n",
      "[CV] C=1 .............................................................\n",
      "[CV] .............................................. C=1, total=   2.8s\n",
      "[CV] C=1 .............................................................\n",
      "[CV] .............................................. C=1, total=   2.1s\n",
      "[CV] C=1 .............................................................\n",
      "[CV] .............................................. C=1, total=   2.6s\n",
      "[CV] C=10 ............................................................\n",
      "[CV] ............................................. C=10, total=   2.1s\n",
      "[CV] C=10 ............................................................\n",
      "[CV] ............................................. C=10, total=   2.5s\n",
      "[CV] C=10 ............................................................\n",
      "[CV] ............................................. C=10, total=   3.9s\n",
      "[CV] C=10 ............................................................\n",
      "[CV] ............................................. C=10, total=   2.1s\n",
      "[CV] C=10 ............................................................\n",
      "[CV] ............................................. C=10, total=   2.2s\n"
     ]
    },
    {
     "name": "stderr",
     "output_type": "stream",
     "text": [
      "[Parallel(n_jobs=1)]: Done  20 out of  20 | elapsed:   32.2s finished\n"
     ]
    },
    {
     "name": "stdout",
     "output_type": "stream",
     "text": [
      "______________________________________________________________\n"
     ]
    }
   ],
   "source": [
    "benchmark_scores = []\n",
    "for sample_type,X,y in datasets:\n",
    "    print('______________________________________________________________')\n",
    "    print('{}'.format(sample_type))\n",
    "    benchmark_scores.append(benchmark(sample_type,X,y))\n",
    "    print('______________________________________________________________')"
   ]
  },
  {
   "cell_type": "code",
   "execution_count": 68,
   "metadata": {},
   "outputs": [
    {
     "name": "stdout",
     "output_type": "stream",
     "text": [
      "Training on base\n",
      "Training on SMOTE\n",
      "Training on RandomOverSampler\n",
      "Training on NearMiss\n",
      "Training on RandomUnderSampler\n"
     ]
    }
   ],
   "source": [
    "scores = []\n",
    "# train models based on benchmark params\n",
    "for sampling_type,score,param in benchmark_scores:\n",
    "    print(\"Training on {}\".format(sampling_type))\n",
    "    lr = LogisticRegression(penalty = 'l1',C=param)\n",
    "    for s_type,X,y in datasets:\n",
    "        if s_type == sampling_type:\n",
    "            lr.fit(X,y)\n",
    "            pred_test = lr.predict(X_test_tf)\n",
    "            pred_test_probs = lr.predict_proba(X_test_tf)\n",
    "            probs = lr.decision_function(X_test_tf)\n",
    "            fpr, tpr, thresholds = roc_curve(y_test.values.ravel(),pred_test)\n",
    "            p,r,t = precision_recall_curve(y_test.values.ravel(),probs)\n",
    "            scores.append((sampling_type,\n",
    "                           f1_score(y_test.values.ravel(),pred_test),\n",
    "                           precision_score(y_test.values.ravel(),pred_test),\n",
    "                           recall_score(y_test.values.ravel(),pred_test),\n",
    "                           accuracy_score(y_test.values.ravel(),pred_test),\n",
    "                           auc(fpr, tpr),\n",
    "                           auc(p,r,reorder=True),\n",
    "                           confusion_matrix(y_test.values.ravel(),pred_test)))"
   ]
  },
  {
   "cell_type": "code",
   "execution_count": 69,
   "metadata": {},
   "outputs": [
    {
     "data": {
      "text/html": [
       "<div>\n",
       "<style scoped>\n",
       "    .dataframe tbody tr th:only-of-type {\n",
       "        vertical-align: middle;\n",
       "    }\n",
       "\n",
       "    .dataframe tbody tr th {\n",
       "        vertical-align: top;\n",
       "    }\n",
       "\n",
       "    .dataframe thead th {\n",
       "        text-align: right;\n",
       "    }\n",
       "</style>\n",
       "<table border=\"1\" class=\"dataframe\">\n",
       "  <thead>\n",
       "    <tr style=\"text-align: right;\">\n",
       "      <th></th>\n",
       "      <th>Sampling Type</th>\n",
       "      <th>f1</th>\n",
       "      <th>precision</th>\n",
       "      <th>recall</th>\n",
       "      <th>accuracy</th>\n",
       "      <th>auc_roc</th>\n",
       "      <th>auc_pr</th>\n",
       "      <th>confusion_matrix</th>\n",
       "    </tr>\n",
       "  </thead>\n",
       "  <tbody>\n",
       "    <tr>\n",
       "      <th>0</th>\n",
       "      <td>base</td>\n",
       "      <td>0.003317</td>\n",
       "      <td>0.166667</td>\n",
       "      <td>0.001675</td>\n",
       "      <td>0.933311</td>\n",
       "      <td>0.500540</td>\n",
       "      <td>0.099601</td>\n",
       "      <td>[[8410, 5], [596, 1]]</td>\n",
       "    </tr>\n",
       "    <tr>\n",
       "      <th>1</th>\n",
       "      <td>SMOTE</td>\n",
       "      <td>0.169247</td>\n",
       "      <td>0.107798</td>\n",
       "      <td>0.393635</td>\n",
       "      <td>0.744008</td>\n",
       "      <td>0.581250</td>\n",
       "      <td>0.080212</td>\n",
       "      <td>[[6470, 1945], [362, 235]]</td>\n",
       "    </tr>\n",
       "    <tr>\n",
       "      <th>2</th>\n",
       "      <td>RandomOverSampler</td>\n",
       "      <td>0.175082</td>\n",
       "      <td>0.111781</td>\n",
       "      <td>0.403685</td>\n",
       "      <td>0.748003</td>\n",
       "      <td>0.588058</td>\n",
       "      <td>0.041618</td>\n",
       "      <td>[[6500, 1915], [356, 241]]</td>\n",
       "    </tr>\n",
       "    <tr>\n",
       "      <th>3</th>\n",
       "      <td>NearMiss</td>\n",
       "      <td>0.126126</td>\n",
       "      <td>0.067608</td>\n",
       "      <td>0.938023</td>\n",
       "      <td>0.138926</td>\n",
       "      <td>0.510129</td>\n",
       "      <td>0.064016</td>\n",
       "      <td>[[692, 7723], [37, 560]]</td>\n",
       "    </tr>\n",
       "    <tr>\n",
       "      <th>4</th>\n",
       "      <td>RandomUnderSampler</td>\n",
       "      <td>0.199711</td>\n",
       "      <td>0.120642</td>\n",
       "      <td>0.579564</td>\n",
       "      <td>0.692299</td>\n",
       "      <td>0.639931</td>\n",
       "      <td>0.093884</td>\n",
       "      <td>[[5893, 2522], [251, 346]]</td>\n",
       "    </tr>\n",
       "  </tbody>\n",
       "</table>\n",
       "</div>"
      ],
      "text/plain": [
       "        Sampling Type        f1  precision    recall  accuracy   auc_roc  \\\n",
       "0                base  0.003317   0.166667  0.001675  0.933311  0.500540   \n",
       "1               SMOTE  0.169247   0.107798  0.393635  0.744008  0.581250   \n",
       "2   RandomOverSampler  0.175082   0.111781  0.403685  0.748003  0.588058   \n",
       "3            NearMiss  0.126126   0.067608  0.938023  0.138926  0.510129   \n",
       "4  RandomUnderSampler  0.199711   0.120642  0.579564  0.692299  0.639931   \n",
       "\n",
       "     auc_pr            confusion_matrix  \n",
       "0  0.099601       [[8410, 5], [596, 1]]  \n",
       "1  0.080212  [[6470, 1945], [362, 235]]  \n",
       "2  0.041618  [[6500, 1915], [356, 241]]  \n",
       "3  0.064016    [[692, 7723], [37, 560]]  \n",
       "4  0.093884  [[5893, 2522], [251, 346]]  "
      ]
     },
     "execution_count": 69,
     "metadata": {},
     "output_type": "execute_result"
    }
   ],
   "source": [
    "sampling_results = pd.DataFrame(scores,columns=['Sampling Type','f1','precision','recall','accuracy','auc_roc','auc_pr','confusion_matrix'])\n",
    "sampling_results"
   ]
  },
  {
   "cell_type": "code",
   "execution_count": null,
   "metadata": {},
   "outputs": [],
   "source": []
  }
 ],
 "metadata": {
  "kernelspec": {
   "display_name": "Python 3",
   "language": "python",
   "name": "python3"
  },
  "language_info": {
   "codemirror_mode": {
    "name": "ipython",
    "version": 3
   },
   "file_extension": ".py",
   "mimetype": "text/x-python",
   "name": "python",
   "nbconvert_exporter": "python",
   "pygments_lexer": "ipython3",
   "version": "3.6.5"
  }
 },
 "nbformat": 4,
 "nbformat_minor": 2
}
